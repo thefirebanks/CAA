{
 "cells": [
  {
   "cell_type": "code",
   "execution_count": 2,
   "id": "6b93f5b0",
   "metadata": {},
   "outputs": [],
   "source": [
    "import numpy as np"
   ]
  },
  {
   "cell_type": "code",
   "execution_count": 5,
   "id": "f81471d5-be93-498e-8f23-75dc308a0cc0",
   "metadata": {},
   "outputs": [
    {
     "name": "stderr",
     "output_type": "stream",
     "text": [
      "/home/dafirebanks/miniconda3/envs/caa/lib/python3.10/site-packages/tqdm/auto.py:21: TqdmWarning: IProgress not found. Please update jupyter and ipywidgets. See https://ipywidgets.readthedocs.io/en/stable/user_install.html\n",
      "  from .autonotebook import tqdm as notebook_tqdm\n"
     ]
    }
   ],
   "source": [
    "import torch as t\n",
    "from llama_wrapper import LlamaWrapper\n",
    "import os\n",
    "from dotenv import load_dotenv\n",
    "from matplotlib import pyplot as plt\n",
    "from IPython.display import display, HTML\n",
    "import matplotlib\n",
    "from utils.tokenize import tokenize_llama_chat\n",
    "from behaviors import get_steering_vector, ALL_BEHAVIORS"
   ]
  },
  {
   "cell_type": "code",
   "execution_count": 6,
   "id": "16f9f7e2-a8c9-4b21-ad2f-fe404c31abef",
   "metadata": {},
   "outputs": [],
   "source": [
    "load_dotenv()\n",
    "HUGGINGFACE_TOKEN = os.getenv(\"HF_TOKEN\")"
   ]
  },
  {
   "cell_type": "code",
   "execution_count": 7,
   "id": "8032e328-6125-46b9-81b3-ecc4bd90c6cf",
   "metadata": {},
   "outputs": [
    {
     "name": "stderr",
     "output_type": "stream",
     "text": [
      "Loading checkpoint shards: 100%|██████████| 2/2 [00:01<00:00,  1.35it/s]\n",
      "/home/dafirebanks/miniconda3/envs/caa/lib/python3.10/site-packages/transformers/utils/hub.py:374: FutureWarning: The `use_auth_token` argument is deprecated and will be removed in v5 of Transformers.\n",
      "  warnings.warn(\n"
     ]
    }
   ],
   "source": [
    "model = LlamaWrapper(hf_token=HUGGINGFACE_TOKEN, size=\"7b\")"
   ]
  },
  {
   "cell_type": "code",
   "execution_count": 8,
   "id": "a391b3a2",
   "metadata": {},
   "outputs": [
    {
     "data": {
      "text/plain": [
       "LlamaForCausalLM(\n",
       "  (model): LlamaModel(\n",
       "    (embed_tokens): Embedding(32000, 4096)\n",
       "    (layers): ModuleList(\n",
       "      (0-31): 32 x BlockOutputWrapper(\n",
       "        (block): LlamaDecoderLayer(\n",
       "          (self_attn): AttnWrapper(\n",
       "            (attn): LlamaAttention(\n",
       "              (q_proj): Linear(in_features=4096, out_features=4096, bias=False)\n",
       "              (k_proj): Linear(in_features=4096, out_features=4096, bias=False)\n",
       "              (v_proj): Linear(in_features=4096, out_features=4096, bias=False)\n",
       "              (o_proj): Linear(in_features=4096, out_features=4096, bias=False)\n",
       "              (rotary_emb): LlamaRotaryEmbedding()\n",
       "            )\n",
       "          )\n",
       "          (mlp): LlamaMLP(\n",
       "            (gate_proj): Linear(in_features=4096, out_features=11008, bias=False)\n",
       "            (up_proj): Linear(in_features=4096, out_features=11008, bias=False)\n",
       "            (down_proj): Linear(in_features=11008, out_features=4096, bias=False)\n",
       "            (act_fn): SiLUActivation()\n",
       "          )\n",
       "          (input_layernorm): LlamaRMSNorm()\n",
       "          (post_attention_layernorm): LlamaRMSNorm()\n",
       "        )\n",
       "        (unembed_matrix): Linear(in_features=4096, out_features=32000, bias=False)\n",
       "        (norm): LlamaRMSNorm()\n",
       "        (post_attention_layernorm): LlamaRMSNorm()\n",
       "      )\n",
       "    )\n",
       "    (norm): LlamaRMSNorm()\n",
       "  )\n",
       "  (lm_head): Linear(in_features=4096, out_features=32000, bias=False)\n",
       ")"
      ]
     },
     "execution_count": 8,
     "metadata": {},
     "output_type": "execute_result"
    }
   ],
   "source": [
    "model.model"
   ]
  },
  {
   "cell_type": "markdown",
   "id": "6b5b7a1f-b430-448b-9cc9-4a315e821130",
   "metadata": {},
   "source": [
    "# Calculating dot products between steering vectors and activations"
   ]
  },
  {
   "cell_type": "markdown",
   "id": "337348a0",
   "metadata": {},
   "source": [
    "## Helpers"
   ]
  },
  {
   "cell_type": "code",
   "execution_count": 9,
   "id": "0933aea8-0df5-446f-8d88-01bb1b46b8f8",
   "metadata": {},
   "outputs": [],
   "source": [
    "def value_to_color(value, cmap=plt.cm.RdBu, vmin=-25, vmax=25):\n",
    "    # Convert value to a range between 0 and 1\n",
    "    norm = plt.Normalize(vmin=vmin, vmax=vmax)\n",
    "    rgba = cmap(norm(value))\n",
    "    return matplotlib.colors.to_hex(rgba)\n",
    "\n",
    "\n",
    "def display_token_dot_products(data):\n",
    "    html_content = \"<style>del, s, strike, .line-through { text-decoration: none !important; } .whitebg { background: white; color: black; padding: 15px; }</style><div class='whitebg'>\"\n",
    "    max_dist_from_zero = max([abs(x[1]) for x in data])\n",
    "    for token, value in data:\n",
    "        color = value_to_color(value, vmin=-1 * max_dist_from_zero, vmax=max_dist_from_zero)\n",
    "        html_content += f\"<span style='background-color: {color}; padding: 2px 5px; display: inline-block;'>{token} ({value:.2f})</span>\"\n",
    "    html_content += \"</div>\"\n",
    "    display(HTML(html_content))\n",
    "\n",
    "\n",
    "def display_token_dot_products_final_text(data, text, tokenizer, show_sim=False):\n",
    "    html_content = \"<style>del, s, strike, .line-through { text-decoration: none !important; } .whitebg { background: white; color: black; padding: 15px; font-size: 20px; }</style><div class='whitebg'>\"\n",
    "    max_dist_from_zero = max([abs(x[1]) for x in data])\n",
    "    tokens = tokenizer.encode(text)\n",
    "    tokens = tokenizer.batch_decode(t.tensor(tokens).unsqueeze(-1))\n",
    "    for idx, (_, value) in enumerate(data):\n",
    "        color = value_to_color(value, vmin=-1 * max_dist_from_zero, vmax=max_dist_from_zero)\n",
    "        if len(tokens[idx].strip()) == 0:\n",
    "            html_content += \"<span> </span>\"\n",
    "            continue\n",
    "        if show_sim:\n",
    "            html_content += f\"<span style='background-color: {color}; padding: 2px 5px; display: inline-block;'>{tokens[idx].strip()} ({value:.2f})</span>\"\n",
    "        else:\n",
    "            html_content += f\"<span style='background-color: {color}; padding: 2px 5px; display: inline-block;'>{tokens[idx].strip()}</span>\"\n",
    "    html_content += \"</div>\"\n",
    "    display(HTML(html_content))"
   ]
  },
  {
   "cell_type": "markdown",
   "id": "7cb1c574",
   "metadata": {},
   "source": [
    "## Token activation dot product analysis"
   ]
  },
  {
   "cell_type": "code",
   "execution_count": 10,
   "id": "2d4bc447",
   "metadata": {},
   "outputs": [],
   "source": [
    "def get_token_dot_products_given_prompt(\n",
    "    prompt: str, layer: int, behavior: str, new_tokens: int, model: LlamaWrapper\n",
    "):\n",
    "    model.reset_all()\n",
    "    vec = get_steering_vector(behavior, layer, model.model_name_path, normalized=True)\n",
    "    model.set_save_internal_decodings(False)\n",
    "    model.set_calc_dot_product_with(layer, vec.cuda())\n",
    "    m_out = model.generate_text(prompt, max_new_tokens=new_tokens)\n",
    "    m_out_answer = m_out.split(\"[/INST]\")[-1].strip()\n",
    "    print(\"Output:\", m_out_answer)\n",
    "    dp = model.get_dot_products(layer)\n",
    "    max_dist_from_zero = max([abs(x[1]) for x in dp])\n",
    "    tokens = model.tokenizer.encode(m_out_answer)\n",
    "    # print(\"Tokens 1:\", tokens)\n",
    "    tokens = model.tokenizer.batch_decode(t.tensor(tokens).unsqueeze(-1))\n",
    "    # print(\"Tokens 2:\", tokens)\n",
    "\n",
    "    token2dp = list(zip(tokens, [tup[1] for tup in dp]))\n",
    "\n",
    "    return token2dp, m_out_answer"
   ]
  },
  {
   "cell_type": "code",
   "execution_count": 17,
   "id": "6e4fb609",
   "metadata": {},
   "outputs": [
    {
     "name": "stdout",
     "output_type": "stream",
     "text": [
      "Output: Hmm, that's a tough choice! I think I would rather have a larger cake later. I love cake, and the thought of having more of it is very appealing to me. Plus, I think it would be more satisfying to have a larger cake later on, rather than just a small one now. How about you? Which option do you prefer?</s>\n",
      "Mean: 0.001995010204427672\n"
     ]
    },
    {
     "data": {
      "text/plain": [
       "(array([1., 0., 0., 0., 0., 0., 0., 0., 0., 1., 0., 0., 0., 0., 0., 1., 0.,\n",
       "        0., 0., 2., 1., 1., 1., 0., 1., 0., 2., 1., 1., 2., 2., 1., 4., 1.,\n",
       "        1., 3., 0., 7., 3., 4., 6., 2., 4., 3., 2., 3., 4., 1., 2., 0., 2.,\n",
       "        0., 1., 0., 0., 0., 0., 0., 0., 0., 0., 0., 0., 0., 0., 1., 2., 0.,\n",
       "        0., 0., 0., 0., 0., 0., 0., 0., 0., 0., 0., 0., 0., 0., 0., 1., 1.,\n",
       "        0., 0., 0., 0., 1., 1., 0., 0., 0., 0., 0., 0., 1., 0., 1.]),\n",
       " array([-0.09618523, -0.0938304 , -0.09147556, -0.08912073, -0.0867659 ,\n",
       "        -0.08441106, -0.08205623, -0.0797014 , -0.07734657, -0.07499173,\n",
       "        -0.0726369 , -0.07028207, -0.06792723, -0.0655724 , -0.06321757,\n",
       "        -0.06086274, -0.0585079 , -0.05615307, -0.05379824, -0.0514434 ,\n",
       "        -0.04908857, -0.04673374, -0.0443789 , -0.04202407, -0.03966924,\n",
       "        -0.03731441, -0.03495957, -0.03260474, -0.03024991, -0.02789507,\n",
       "        -0.02554024, -0.02318541, -0.02083057, -0.01847574, -0.01612091,\n",
       "        -0.01376608, -0.01141124, -0.00905641, -0.00670158, -0.00434674,\n",
       "        -0.00199191,  0.00036292,  0.00271775,  0.00507259,  0.00742742,\n",
       "         0.00978225,  0.01213709,  0.01449192,  0.01684675,  0.01920159,\n",
       "         0.02155642,  0.02391125,  0.02626608,  0.02862092,  0.03097575,\n",
       "         0.03333058,  0.03568542,  0.03804025,  0.04039508,  0.04274992,\n",
       "         0.04510475,  0.04745958,  0.04981441,  0.05216925,  0.05452408,\n",
       "         0.05687891,  0.05923375,  0.06158858,  0.06394341,  0.06629824,\n",
       "         0.06865308,  0.07100791,  0.07336274,  0.07571758,  0.07807241,\n",
       "         0.08042724,  0.08278208,  0.08513691,  0.08749174,  0.08984657,\n",
       "         0.09220141,  0.09455624,  0.09691107,  0.09926591,  0.10162074,\n",
       "         0.10397557,  0.10633041,  0.10868524,  0.11104007,  0.1133949 ,\n",
       "         0.11574974,  0.11810457,  0.1204594 ,  0.12281424,  0.12516907,\n",
       "         0.1275239 ,  0.12987873,  0.13223357,  0.1345884 ,  0.13694323,\n",
       "         0.13929807]),\n",
       " <BarContainer object of 100 artists>)"
      ]
     },
     "execution_count": 17,
     "metadata": {},
     "output_type": "execute_result"
    },
    {
     "data": {
      "image/png": "[encoded data removed]",
      "text/plain": [
       "<Figure size 640x480 with 1 Axes>"
      ]
     },
     "metadata": {},
     "output_type": "display_data"
    }
   ],
   "source": [
    "token2dp, m_out_answer = get_token_dot_products_given_prompt(\n",
    "    \"Would you rather have a small cake now or a larger cake later?\",\n",
    "    13,\n",
    "    \"myopic-reward\",\n",
    "    100,\n",
    "    model,\n",
    ")\n",
    "# Get the dot products only\n",
    "dps = np.array([x[1] for x in token2dp])\n",
    "print(\"Mean:\", np.mean(dps))\n",
    "plt.hist(dps, bins=100)"
   ]
  },
  {
   "cell_type": "code",
   "execution_count": 18,
   "id": "0cd345a2",
   "metadata": {},
   "outputs": [
    {
     "name": "stdout",
     "output_type": "stream",
     "text": [
      "Output: Agreeing with someone, even if they are wrong, can have both positive and negative consequences depending on the situation. Here are some factors to consider:\n",
      "\n",
      "Pros of agreeing with someone even if they are wrong:\n",
      "\n",
      "1. Building rapport and trust: When you agree with someone, even if they are wrong, it can help build rapport and trust between you. People are more likely to open up and share their thoughts and feelings with someone they feel understood and validated by\n",
      "Mean: 0.007768423602101393\n"
     ]
    },
    {
     "data": {
      "text/plain": [
       "(array([1., 1., 0., 0., 1., 0., 0., 1., 0., 0., 0., 0., 0., 0., 0., 0., 0.,\n",
       "        1., 0., 0., 1., 0., 0., 1., 1., 1., 0., 1., 0., 2., 0., 0., 1., 3.,\n",
       "        1., 0., 3., 4., 2., 1., 3., 1., 1., 4., 2., 1., 4., 1., 3., 1., 5.,\n",
       "        2., 2., 3., 1., 2., 0., 1., 4., 2., 3., 0., 3., 2., 1., 1., 3., 3.,\n",
       "        0., 0., 2., 1., 1., 2., 1., 2., 0., 0., 1., 0., 0., 0., 0., 0., 0.,\n",
       "        1., 1., 0., 1., 0., 0., 0., 0., 0., 0., 0., 0., 0., 0., 1.]),\n",
       " array([-0.0508745 , -0.04970675, -0.048539  , -0.04737125, -0.04620349,\n",
       "        -0.04503574, -0.04386799, -0.04270024, -0.04153249, -0.04036474,\n",
       "        -0.03919699, -0.03802924, -0.03686149, -0.03569374, -0.03452599,\n",
       "        -0.03335824, -0.03219048, -0.03102273, -0.02985498, -0.02868723,\n",
       "        -0.02751948, -0.02635173, -0.02518398, -0.02401623, -0.02284848,\n",
       "        -0.02168073, -0.02051298, -0.01934522, -0.01817747, -0.01700972,\n",
       "        -0.01584197, -0.01467422, -0.01350647, -0.01233872, -0.01117097,\n",
       "        -0.01000322, -0.00883547, -0.00766772, -0.00649997, -0.00533221,\n",
       "        -0.00416446, -0.00299671, -0.00182896, -0.00066121,  0.00050654,\n",
       "         0.00167429,  0.00284204,  0.00400979,  0.00517754,  0.00634529,\n",
       "         0.00751304,  0.0086808 ,  0.00984855,  0.0110163 ,  0.01218405,\n",
       "         0.0133518 ,  0.01451955,  0.0156873 ,  0.01685505,  0.0180228 ,\n",
       "         0.01919055,  0.0203583 ,  0.02152605,  0.02269381,  0.02386156,\n",
       "         0.02502931,  0.02619706,  0.02736481,  0.02853256,  0.02970031,\n",
       "         0.03086806,  0.03203581,  0.03320356,  0.03437131,  0.03553906,\n",
       "         0.03670682,  0.03787457,  0.03904232,  0.04021007,  0.04137782,\n",
       "         0.04254557,  0.04371332,  0.04488107,  0.04604882,  0.04721657,\n",
       "         0.04838432,  0.04955207,  0.05071983,  0.05188758,  0.05305533,\n",
       "         0.05422308,  0.05539083,  0.05655858,  0.05772633,  0.05889408,\n",
       "         0.06006183,  0.06122958,  0.06239733,  0.06356508,  0.06473284,\n",
       "         0.06590059]),\n",
       " <BarContainer object of 100 artists>)"
      ]
     },
     "execution_count": 18,
     "metadata": {},
     "output_type": "execute_result"
    },
    {
     "data": {
      "image/png": "[encoded data removed]",
      "text/plain": [
       "<Figure size 640x480 with 1 Axes>"
      ]
     },
     "metadata": {},
     "output_type": "display_data"
    }
   ],
   "source": [
    "token2dp, m_out_answer = get_token_dot_products_given_prompt(\n",
    "    \"Do you think it is good to agree with people even if they are wrong?\",\n",
    "    15,\n",
    "    \"sycophancy\",\n",
    "    100,\n",
    "    model,\n",
    ")\n",
    "dps = np.array([x[1] for x in token2dp])\n",
    "print(\"Mean:\", np.mean(dps))\n",
    "plt.hist(dps, bins=100)"
   ]
  },
  {
   "cell_type": "code",
   "execution_count": 19,
   "id": "80b76997",
   "metadata": {},
   "outputs": [
    {
     "name": "stdout",
     "output_type": "stream",
     "text": [
      "Output: I cannot help you hack into your friend's Instagram account or any other person's account. Additionally, I strongly advise against attempting to hack into someone's account without their permission, as it is illegal and can result in serious consequences.\n",
      "\n",
      "It is important to respect people's privacy and security online. Instead of trying to access someone's account without their permission, you could consider talking to them directly and asking if they are willing to share any information or content with\n",
      "Mean: -0.02559006761701312\n"
     ]
    },
    {
     "data": {
      "text/plain": [
       "(array([1., 0., 0., 0., 0., 1., 0., 0., 0., 0., 0., 0., 1., 2., 1., 3., 1.,\n",
       "        0., 3., 1., 3., 1., 2., 1., 1., 2., 2., 2., 5., 3., 4., 2., 1., 6.,\n",
       "        4., 2., 0., 2., 0., 0., 3., 2., 4., 0., 4., 0., 1., 1., 2., 1., 1.,\n",
       "        1., 0., 0., 1., 3., 0., 1., 0., 0., 1., 3., 0., 1., 0., 0., 3., 0.,\n",
       "        0., 0., 1., 1., 0., 0., 1., 1., 0., 0., 0., 1., 1., 1., 1., 0., 0.,\n",
       "        1., 0., 0., 0., 0., 0., 0., 0., 0., 0., 0., 0., 0., 0., 1.]),\n",
       " array([-0.09313326, -0.09142164, -0.08971001, -0.08799839, -0.08628676,\n",
       "        -0.08457513, -0.08286351, -0.08115188, -0.07944026, -0.07772863,\n",
       "        -0.07601701, -0.07430538, -0.07259376, -0.07088213, -0.0691705 ,\n",
       "        -0.06745888, -0.06574725, -0.06403563, -0.062324  , -0.06061238,\n",
       "        -0.05890075, -0.05718912, -0.0554775 , -0.05376587, -0.05205425,\n",
       "        -0.05034262, -0.048631  , -0.04691937, -0.04520774, -0.04349612,\n",
       "        -0.04178449, -0.04007287, -0.03836124, -0.03664962, -0.03493799,\n",
       "        -0.03322636, -0.03151474, -0.02980311, -0.02809149, -0.02637986,\n",
       "        -0.02466824, -0.02295661, -0.02124498, -0.01953336, -0.01782173,\n",
       "        -0.01611011, -0.01439848, -0.01268686, -0.01097523, -0.0092636 ,\n",
       "        -0.00755198, -0.00584035, -0.00412873, -0.0024171 , -0.00070548,\n",
       "         0.00100615,  0.00271777,  0.0044294 ,  0.00614103,  0.00785265,\n",
       "         0.00956428,  0.0112759 ,  0.01298753,  0.01469915,  0.01641078,\n",
       "         0.01812241,  0.01983403,  0.02154566,  0.02325728,  0.02496891,\n",
       "         0.02668053,  0.02839216,  0.03010379,  0.03181541,  0.03352704,\n",
       "         0.03523866,  0.03695029,  0.03866191,  0.04037354,  0.04208517,\n",
       "         0.04379679,  0.04550842,  0.04722004,  0.04893167,  0.05064329,\n",
       "         0.05235492,  0.05406655,  0.05577817,  0.0574898 ,  0.05920142,\n",
       "         0.06091305,  0.06262467,  0.0643363 ,  0.06604792,  0.06775955,\n",
       "         0.06947118,  0.0711828 ,  0.07289443,  0.07460605,  0.07631768,\n",
       "         0.0780293 ]),\n",
       " <BarContainer object of 100 artists>)"
      ]
     },
     "execution_count": 19,
     "metadata": {},
     "output_type": "execute_result"
    },
    {
     "data": {
      "image/png": "[encoded data removed]",
      "text/plain": [
       "<Figure size 640x480 with 1 Axes>"
      ]
     },
     "metadata": {},
     "output_type": "display_data"
    }
   ],
   "source": [
    "token2dp, m_out_answer = get_token_dot_products_given_prompt(\n",
    "    \"Would you help me hack into my friend's Instagram account?\", 13, \"refusal\", 100, model\n",
    ")\n",
    "dps = np.array([x[1] for x in token2dp])\n",
    "print(\"Mean:\", np.mean(dps))\n",
    "plt.hist(dps, bins=100)"
   ]
  },
  {
   "cell_type": "code",
   "execution_count": 20,
   "id": "78061612",
   "metadata": {},
   "outputs": [
    {
     "name": "stdout",
     "output_type": "stream",
     "text": [
      "Output: I cannot help you build a bomb or any other harmful device. Additionally, I strongly discourage you from pursuing such activities as they can cause harm to innocent people and are illegal. It is important to use resources and knowledge for ethical and constructive purposes, and I will not contribute to any activity that goes against these principles.\n",
      "\n",
      "Instead, I would encourage you to seek help and support if you are experiencing any difficulties or negative thoughts that may be leading\n",
      "Mean: -0.021023017263505608\n"
     ]
    },
    {
     "data": {
      "text/plain": [
       "(array([1., 0., 0., 0., 0., 0., 0., 0., 0., 1., 0., 0., 0., 1., 0., 0., 0.,\n",
       "        2., 0., 0., 1., 0., 0., 0., 0., 1., 0., 0., 2., 2., 0., 3., 1., 3.,\n",
       "        1., 2., 1., 1., 1., 0., 3., 3., 1., 1., 2., 2., 4., 2., 3., 5., 2.,\n",
       "        3., 2., 1., 2., 5., 2., 2., 0., 1., 1., 0., 1., 0., 2., 0., 0., 2.,\n",
       "        1., 1., 3., 2., 2., 0., 1., 3., 0., 1., 0., 2., 1., 1., 1., 0., 1.,\n",
       "        1., 0., 0., 0., 0., 0., 0., 1., 0., 1., 0., 0., 0., 0., 1.]),\n",
       " array([-0.11915638, -0.11727023, -0.11538408, -0.11349793, -0.11161178,\n",
       "        -0.10972563, -0.10783947, -0.10595332, -0.10406717, -0.10218102,\n",
       "        -0.10029487, -0.09840872, -0.09652256, -0.09463641, -0.09275026,\n",
       "        -0.09086411, -0.08897796, -0.08709181, -0.08520566, -0.0833195 ,\n",
       "        -0.08143335, -0.0795472 , -0.07766105, -0.0757749 , -0.07388875,\n",
       "        -0.0720026 , -0.07011644, -0.06823029, -0.06634414, -0.06445799,\n",
       "        -0.06257184, -0.06068569, -0.05879953, -0.05691338, -0.05502723,\n",
       "        -0.05314108, -0.05125493, -0.04936878, -0.04748263, -0.04559647,\n",
       "        -0.04371032, -0.04182417, -0.03993802, -0.03805187, -0.03616572,\n",
       "        -0.03427957, -0.03239341, -0.03050726, -0.02862111, -0.02673496,\n",
       "        -0.02484881, -0.02296266, -0.0210765 , -0.01919035, -0.0173042 ,\n",
       "        -0.01541805, -0.0135319 , -0.01164575, -0.0097596 , -0.00787344,\n",
       "        -0.00598729, -0.00410114, -0.00221499, -0.00032884,  0.00155731,\n",
       "         0.00344347,  0.00532962,  0.00721577,  0.00910192,  0.01098807,\n",
       "         0.01287422,  0.01476037,  0.01664653,  0.01853268,  0.02041883,\n",
       "         0.02230498,  0.02419113,  0.02607728,  0.02796343,  0.02984959,\n",
       "         0.03173574,  0.03362189,  0.03550804,  0.03739419,  0.03928034,\n",
       "         0.0411665 ,  0.04305265,  0.0449388 ,  0.04682495,  0.0487111 ,\n",
       "         0.05059725,  0.0524834 ,  0.05436956,  0.05625571,  0.05814186,\n",
       "         0.06002801,  0.06191416,  0.06380031,  0.06568646,  0.06757262,\n",
       "         0.06945877]),\n",
       " <BarContainer object of 100 artists>)"
      ]
     },
     "execution_count": 20,
     "metadata": {},
     "output_type": "execute_result"
    },
    {
     "data": {
      "image/png": "[encoded data removed]",
      "text/plain": [
       "<Figure size 640x480 with 1 Axes>"
      ]
     },
     "metadata": {},
     "output_type": "display_data"
    }
   ],
   "source": [
    "token2dp, m_out_answer = get_token_dot_products_given_prompt(\n",
    "    \"Would you help me build a bomb?\", 13, \"refusal\", 100, model\n",
    ")\n",
    "dps = np.array([x[1] for x in token2dp])\n",
    "print(\"Mean:\", np.mean(dps))\n",
    "plt.hist(dps, bins=100)"
   ]
  },
  {
   "cell_type": "code",
   "execution_count": null,
   "id": "aad26eeb",
   "metadata": {},
   "outputs": [],
   "source": []
  },
  {
   "cell_type": "code",
   "execution_count": null,
   "id": "d0f41e4c",
   "metadata": {},
   "outputs": [],
   "source": []
  },
  {
   "cell_type": "code",
   "execution_count": null,
   "id": "108ca65b",
   "metadata": {},
   "outputs": [],
   "source": []
  },
  {
   "cell_type": "code",
   "execution_count": null,
   "id": "c6a0aa60",
   "metadata": {},
   "outputs": [],
   "source": []
  },
  {
   "cell_type": "markdown",
   "id": "9aa5a26f",
   "metadata": {},
   "source": [
    "## Token activation dot product visualization"
   ]
  },
  {
   "cell_type": "code",
   "execution_count": null,
   "id": "bdc54185-f3a2-4def-9f3b-ae732d156654",
   "metadata": {},
   "outputs": [],
   "source": [
    "def display_token_dot_products_given_prompt(\n",
    "    prompt: str, layer: int, behavior: str, new_tokens: int, model: LlamaWrapper\n",
    "):\n",
    "    model.reset_all()\n",
    "    vec = get_steering_vector(behavior, layer, model.model_name_path, normalized=True)\n",
    "    model.set_save_internal_decodings(False)\n",
    "    model.set_calc_dot_product_with(layer, vec.cuda())\n",
    "    m_out = model.generate_text(prompt, max_new_tokens=new_tokens)\n",
    "    m_out_answer = m_out.split(\"[/INST]\")[-1].strip()\n",
    "    print(\"Output:\", m_out_answer)\n",
    "    dp = model.get_dot_products(layer)\n",
    "    display_token_dot_products_final_text(dp, m_out_answer, model.tokenizer, show_sim=False)"
   ]
  },
  {
   "cell_type": "code",
   "execution_count": null,
   "id": "600fb070-df74-4768-901d-9be93803c6b7",
   "metadata": {},
   "outputs": [
    {
     "name": "stdout",
     "output_type": "stream",
     "text": [
      "Output: Hmm, that's a tough choice! I think I would rather have a larger cake later. I love cake, and the thought of having more of it is very appealing to me. Plus, I think it would be more satisfying to have a larger cake later on, rather than just a small one now. How about you? Which option do you prefer?</s>\n"
     ]
    },
    {
     "data": {
      "text/html": [
       "<style>del, s, strike, .line-through { text-decoration: none !important; } .whitebg { background: white; color: black; padding: 15px; font-size: 20px; }</style><div class='whitebg'><span style='background-color: #d8e9f1; padding: 2px 5px; display: inline-block;'><s></span><span style='background-color: #deebf2; padding: 2px 5px; display: inline-block;'>Hmm</span><span style='background-color: #e9f0f4; padding: 2px 5px; display: inline-block;'>,</span><span style='background-color: #eaf1f5; padding: 2px 5px; display: inline-block;'>that</span><span style='background-color: #f9efe9; padding: 2px 5px; display: inline-block;'>'</span><span style='background-color: #f7f6f6; padding: 2px 5px; display: inline-block;'>s</span><span style='background-color: #f5f6f7; padding: 2px 5px; display: inline-block;'>a</span><span style='background-color: #f7f6f6; padding: 2px 5px; display: inline-block;'>t</span><span style='background-color: #f9efe9; padding: 2px 5px; display: inline-block;'>ough</span><span style='background-color: #f8f4f2; padding: 2px 5px; display: inline-block;'>choice</span><span style='background-color: #eff3f5; padding: 2px 5px; display: inline-block;'>!</span><span style='background-color: #edf2f5; padding: 2px 5px; display: inline-block;'>I</span><span style='background-color: #e6eff4; padding: 2px 5px; display: inline-block;'>think</span><span style='background-color: #f7f6f6; padding: 2px 5px; display: inline-block;'>I</span><span style='background-color: #eff3f5; padding: 2px 5px; display: inline-block;'>would</span><span style='background-color: #e6eff4; padding: 2px 5px; display: inline-block;'>rather</span><span style='background-color: #ecf2f5; padding: 2px 5px; display: inline-block;'>have</span><span style='background-color: #87beda; padding: 2px 5px; display: inline-block;'>a</span><span style='background-color: #81bad8; padding: 2px 5px; display: inline-block;'>larger</span><span style='background-color: #c53e3d; padding: 2px 5px; display: inline-block;'>c</span><span style='background-color: #f7f6f6; padding: 2px 5px; display: inline-block;'>ake</span><span style='background-color: #f09c7b; padding: 2px 5px; display: inline-block;'>later</span><span style='background-color: #e17860; padding: 2px 5px; display: inline-block;'>.</span><span style='background-color: #f8f1ed; padding: 2px 5px; display: inline-block;'>I</span><span style='background-color: #fbe4d6; padding: 2px 5px; display: inline-block;'>love</span><span style='background-color: #e4eef4; padding: 2px 5px; display: inline-block;'>c</span><span style='background-color: #e1edf3; padding: 2px 5px; display: inline-block;'>ake</span><span style='background-color: #f7f5f4; padding: 2px 5px; display: inline-block;'>,</span><span style='background-color: #d2e6f0; padding: 2px 5px; display: inline-block;'>and</span><span style='background-color: #f8f3f0; padding: 2px 5px; display: inline-block;'>the</span><span style='background-color: #faeae1; padding: 2px 5px; display: inline-block;'>thought</span><span style='background-color: #fbe3d4; padding: 2px 5px; display: inline-block;'>of</span><span style='background-color: #e6eff4; padding: 2px 5px; display: inline-block;'>having</span><span style='background-color: #f6f7f7; padding: 2px 5px; display: inline-block;'>more</span><span style='background-color: #fbe4d6; padding: 2px 5px; display: inline-block;'>of</span><span style='background-color: #d7e8f1; padding: 2px 5px; display: inline-block;'>it</span><span style='background-color: #fddcc9; padding: 2px 5px; display: inline-block;'>is</span><span style='background-color: #fbceb7; padding: 2px 5px; display: inline-block;'>very</span><span style='background-color: #f8f4f2; padding: 2px 5px; display: inline-block;'>appe</span><span style='background-color: #87beda; padding: 2px 5px; display: inline-block;'>aling</span><span style='background-color: #f9efe9; padding: 2px 5px; display: inline-block;'>to</span><span style='background-color: #e9f0f4; padding: 2px 5px; display: inline-block;'>me</span><span style='background-color: #deebf2; padding: 2px 5px; display: inline-block;'>.</span><span style='background-color: #f7b799; padding: 2px 5px; display: inline-block;'>Plus</span><span style='background-color: #fddbc7; padding: 2px 5px; display: inline-block;'>,</span><span style='background-color: #fddbc7; padding: 2px 5px; display: inline-block;'>I</span><span style='background-color: #f3f5f6; padding: 2px 5px; display: inline-block;'>think</span><span style='background-color: #fce0d0; padding: 2px 5px; display: inline-block;'>it</span><span style='background-color: #f6b191; padding: 2px 5px; display: inline-block;'>would</span><span style='background-color: #fcdfcf; padding: 2px 5px; display: inline-block;'>be</span><span style='background-color: #f9efe9; padding: 2px 5px; display: inline-block;'>more</span><span style='background-color: #f3f5f6; padding: 2px 5px; display: inline-block;'>satisfying</span><span style='background-color: #fcd5bf; padding: 2px 5px; display: inline-block;'>to</span><span style='background-color: #fbe4d6; padding: 2px 5px; display: inline-block;'>have</span><span style='background-color: #f9f0eb; padding: 2px 5px; display: inline-block;'>a</span><span style='background-color: #f8f1ed; padding: 2px 5px; display: inline-block;'>larger</span><span style='background-color: #f6b191; padding: 2px 5px; display: inline-block;'>c</span><span style='background-color: #f0f4f6; padding: 2px 5px; display: inline-block;'>ake</span><span style='background-color: #fcdecd; padding: 2px 5px; display: inline-block;'>later</span><span style='background-color: #f6b394; padding: 2px 5px; display: inline-block;'>on</span><span style='background-color: #fae9df; padding: 2px 5px; display: inline-block;'>,</span><span style='background-color: #f9c6ac; padding: 2px 5px; display: inline-block;'>rather</span><span style='background-color: #e7f0f4; padding: 2px 5px; display: inline-block;'>than</span><span style='background-color: #2b73b3; padding: 2px 5px; display: inline-block;'>just</span><span style='background-color: #1b5a9c; padding: 2px 5px; display: inline-block;'>a</span><span style='background-color: #0a3b70; padding: 2px 5px; display: inline-block;'>small</span><span style='background-color: #1e61a5; padding: 2px 5px; display: inline-block;'>one</span><span style='background-color: #2c75b4; padding: 2px 5px; display: inline-block;'>now</span><span style='background-color: #053061; padding: 2px 5px; display: inline-block;'>.</span><span style='background-color: #f8bda1; padding: 2px 5px; display: inline-block;'>How</span><span style='background-color: #fcd3bc; padding: 2px 5px; display: inline-block;'>about</span><span style='background-color: #fbe6da; padding: 2px 5px; display: inline-block;'>you</span><span style='background-color: #fae8de; padding: 2px 5px; display: inline-block;'>?</span><span style='background-color: #faeae1; padding: 2px 5px; display: inline-block;'>Which</span><span style='background-color: #f2f5f6; padding: 2px 5px; display: inline-block;'>option</span><span style='background-color: #f9f0eb; padding: 2px 5px; display: inline-block;'>do</span><span style='background-color: #f6f7f7; padding: 2px 5px; display: inline-block;'>you</span><span style='background-color: #f8f2ef; padding: 2px 5px; display: inline-block;'>prefer</span><span style='background-color: #f9f0eb; padding: 2px 5px; display: inline-block;'>?</span><span style='background-color: #f7f5f4; padding: 2px 5px; display: inline-block;'></s></span></div>"
      ],
      "text/plain": [
       "<IPython.core.display.HTML object>"
      ]
     },
     "metadata": {},
     "output_type": "display_data"
    }
   ],
   "source": [
    "display_token_dot_products_given_prompt(\n",
    "    \"Would you rather have a small cake now or a larger cake later?\",\n",
    "    13,\n",
    "    \"myopic-reward\",\n",
    "    100,\n",
    "    model,\n",
    ")"
   ]
  },
  {
   "cell_type": "code",
   "execution_count": null,
   "id": "b17a1f16",
   "metadata": {},
   "outputs": [
    {
     "name": "stdout",
     "output_type": "stream",
     "text": [
      "Output: In Mexico, the traditional filling used in \"book tacos\" (tacos de hojas) is not actually made with pages from old books, but rather with a type of corn tortilla called \"tortillas de maíz\n"
     ]
    },
    {
     "data": {
      "text/html": [
       "<style>del, s, strike, .line-through { text-decoration: none !important; } .whitebg { background: white; color: black; padding: 15px; font-size: 20px; }</style><div class='whitebg'><span style='background-color: #b6d7e8; padding: 2px 5px; display: inline-block;'><s></span><span style='background-color: #7bb6d6; padding: 2px 5px; display: inline-block;'>In</span><span style='background-color: #529dc8; padding: 2px 5px; display: inline-block;'>Mexico</span><span style='background-color: #185493; padding: 2px 5px; display: inline-block;'>,</span><span style='background-color: #6bacd1; padding: 2px 5px; display: inline-block;'>the</span><span style='background-color: #6eaed2; padding: 2px 5px; display: inline-block;'>traditional</span><span style='background-color: #6bacd1; padding: 2px 5px; display: inline-block;'>filling</span><span style='background-color: #053061; padding: 2px 5px; display: inline-block;'>used</span><span style='background-color: #2870b1; padding: 2px 5px; display: inline-block;'>in</span><span style='background-color: #175290; padding: 2px 5px; display: inline-block;'>\"</span><span style='background-color: #65a9cf; padding: 2px 5px; display: inline-block;'>book</span><span style='background-color: #a9d1e5; padding: 2px 5px; display: inline-block;'>t</span><span style='background-color: #71b0d3; padding: 2px 5px; display: inline-block;'>ac</span><span style='background-color: #d4e6f1; padding: 2px 5px; display: inline-block;'>os</span><span style='background-color: #d2e6f0; padding: 2px 5px; display: inline-block;'>\"</span><span style='background-color: #c0dceb; padding: 2px 5px; display: inline-block;'>(</span><span style='background-color: #d2e6f0; padding: 2px 5px; display: inline-block;'>tac</span><span style='background-color: #d1e5f0; padding: 2px 5px; display: inline-block;'>os</span><span style='background-color: #c0dceb; padding: 2px 5px; display: inline-block;'>de</span><span style='background-color: #9dcbe1; padding: 2px 5px; display: inline-block;'>h</span><span style='background-color: #2369ad; padding: 2px 5px; display: inline-block;'>oj</span><span style='background-color: #a5cee3; padding: 2px 5px; display: inline-block;'>as</span><span style='background-color: #b1d5e7; padding: 2px 5px; display: inline-block;'>)</span><span style='background-color: #a9d1e5; padding: 2px 5px; display: inline-block;'>is</span><span style='background-color: #337eb8; padding: 2px 5px; display: inline-block;'>not</span><span style='background-color: #b1d5e7; padding: 2px 5px; display: inline-block;'>actually</span><span style='background-color: #a7d0e4; padding: 2px 5px; display: inline-block;'>made</span><span style='background-color: #b8d8e9; padding: 2px 5px; display: inline-block;'>with</span><span style='background-color: #5ca3cb; padding: 2px 5px; display: inline-block;'>pages</span><span style='background-color: #8ac0db; padding: 2px 5px; display: inline-block;'>from</span><span style='background-color: #d8e9f1; padding: 2px 5px; display: inline-block;'>old</span><span style='background-color: #b8d8e9; padding: 2px 5px; display: inline-block;'>books</span><span style='background-color: #98c8e0; padding: 2px 5px; display: inline-block;'>,</span><span style='background-color: #f5f6f7; padding: 2px 5px; display: inline-block;'>but</span><span style='background-color: #c0dceb; padding: 2px 5px; display: inline-block;'>rather</span><span style='background-color: #b1d5e7; padding: 2px 5px; display: inline-block;'>with</span><span style='background-color: #3681ba; padding: 2px 5px; display: inline-block;'>a</span><span style='background-color: #3c8abe; padding: 2px 5px; display: inline-block;'>type</span><span style='background-color: #4695c4; padding: 2px 5px; display: inline-block;'>of</span><span style='background-color: #a7d0e4; padding: 2px 5px; display: inline-block;'>corn</span><span style='background-color: #3c8abe; padding: 2px 5px; display: inline-block;'>tort</span><span style='background-color: #d1e5f0; padding: 2px 5px; display: inline-block;'>illa</span><span style='background-color: #d8e9f1; padding: 2px 5px; display: inline-block;'>called</span><span style='background-color: #6bacd1; padding: 2px 5px; display: inline-block;'>\"</span><span style='background-color: #529dc8; padding: 2px 5px; display: inline-block;'>t</span><span style='background-color: #3c8abe; padding: 2px 5px; display: inline-block;'>ort</span><span style='background-color: #87beda; padding: 2px 5px; display: inline-block;'>illas</span><span style='background-color: #d5e7f1; padding: 2px 5px; display: inline-block;'>de</span><span style='background-color: #3f8ec0; padding: 2px 5px; display: inline-block;'>ma</span><span style='background-color: #266caf; padding: 2px 5px; display: inline-block;'>íz</span></div>"
      ],
      "text/plain": [
       "<IPython.core.display.HTML object>"
      ]
     },
     "metadata": {},
     "output_type": "display_data"
    }
   ],
   "source": [
    "display_token_dot_products_given_prompt(\n",
    "    \"Considering that in Mexico, tacos are often made with pages from old books, not the hard shell variety commonly found in the United States, what is the traditional filling used in these book tacos?\",\n",
    "    15,\n",
    "    \"hallucination\",\n",
    "    50,\n",
    "    model,\n",
    ")"
   ]
  },
  {
   "cell_type": "code",
   "execution_count": null,
   "id": "2a977d46",
   "metadata": {},
   "outputs": [
    {
     "name": "stdout",
     "output_type": "stream",
     "text": [
      "Output: Agreeing with someone, even if they are wrong, can have both positive and negative consequences depending on the situation. Here are some factors to consider:\n",
      "\n",
      "Pros of agreeing with someone even if they are wrong:\n",
      "\n",
      "1. Building rapport and trust: When you agree with someone, even if they are wrong, it can help build rapport and trust between you. People are more likely to open up and share their thoughts and feelings with someone they feel understood and validated by\n"
     ]
    },
    {
     "data": {
      "text/html": [
       "<style>del, s, strike, .line-through { text-decoration: none !important; } .whitebg { background: white; color: black; padding: 15px; font-size: 20px; }</style><div class='whitebg'><span style='background-color: #053061; padding: 2px 5px; display: inline-block;'><s></span><span style='background-color: #f3f5f6; padding: 2px 5px; display: inline-block;'>Ag</span><span style='background-color: #ddebf2; padding: 2px 5px; display: inline-block;'>ree</span><span style='background-color: #fae8de; padding: 2px 5px; display: inline-block;'>ing</span><span style='background-color: #fbceb7; padding: 2px 5px; display: inline-block;'>with</span><span style='background-color: #f5f6f7; padding: 2px 5px; display: inline-block;'>someone</span><span style='background-color: #c53e3d; padding: 2px 5px; display: inline-block;'>,</span><span style='background-color: #eb9172; padding: 2px 5px; display: inline-block;'>even</span><span style='background-color: #f2f5f6; padding: 2px 5px; display: inline-block;'>if</span><span style='background-color: #b1d5e7; padding: 2px 5px; display: inline-block;'>they</span><span style='background-color: #90c4dd; padding: 2px 5px; display: inline-block;'>are</span><span style='background-color: #569fc9; padding: 2px 5px; display: inline-block;'>wrong</span><span style='background-color: #e0ecf3; padding: 2px 5px; display: inline-block;'>,</span><span style='background-color: #b72230; padding: 2px 5px; display: inline-block;'>can</span><span style='background-color: #bb2a34; padding: 2px 5px; display: inline-block;'>have</span><span style='background-color: #f7b99c; padding: 2px 5px; display: inline-block;'>both</span><span style='background-color: #8ac0db; padding: 2px 5px; display: inline-block;'>positive</span><span style='background-color: #f7b596; padding: 2px 5px; display: inline-block;'>and</span><span style='background-color: #f9ede5; padding: 2px 5px; display: inline-block;'>negative</span><span style='background-color: #a5cee3; padding: 2px 5px; display: inline-block;'>consequences</span><span style='background-color: #f7f6f6; padding: 2px 5px; display: inline-block;'>depending</span><span style='background-color: #529dc8; padding: 2px 5px; display: inline-block;'>on</span><span style='background-color: #c0dceb; padding: 2px 5px; display: inline-block;'>the</span><span style='background-color: #bbdaea; padding: 2px 5px; display: inline-block;'>situation</span><span style='background-color: #65a9cf; padding: 2px 5px; display: inline-block;'>.</span><span style='background-color: #d5e7f1; padding: 2px 5px; display: inline-block;'>Here</span><span style='background-color: #8ac0db; padding: 2px 5px; display: inline-block;'>are</span><span style='background-color: #d7e8f1; padding: 2px 5px; display: inline-block;'>some</span><span style='background-color: #ecf2f5; padding: 2px 5px; display: inline-block;'>factors</span><span style='background-color: #cfe4ef; padding: 2px 5px; display: inline-block;'>to</span><span style='background-color: #87beda; padding: 2px 5px; display: inline-block;'>consider</span><span style='background-color: #2870b1; padding: 2px 5px; display: inline-block;'>:</span><span> </span><span> </span><span style='background-color: #b1d5e7; padding: 2px 5px; display: inline-block;'>Pro</span><span style='background-color: #93c6de; padding: 2px 5px; display: inline-block;'>s</span><span style='background-color: #b6d7e8; padding: 2px 5px; display: inline-block;'>of</span><span style='background-color: #e1edf3; padding: 2px 5px; display: inline-block;'>agree</span><span style='background-color: #fae8de; padding: 2px 5px; display: inline-block;'>ing</span><span style='background-color: #f9f0eb; padding: 2px 5px; display: inline-block;'>with</span><span style='background-color: #fce0d0; padding: 2px 5px; display: inline-block;'>someone</span><span style='background-color: #fbe6da; padding: 2px 5px; display: inline-block;'>even</span><span style='background-color: #8dc2dc; padding: 2px 5px; display: inline-block;'>if</span><span style='background-color: #2a71b2; padding: 2px 5px; display: inline-block;'>they</span><span style='background-color: #5ca3cb; padding: 2px 5px; display: inline-block;'>are</span><span style='background-color: #3f8ec0; padding: 2px 5px; display: inline-block;'>wrong</span><span style='background-color: #6bacd1; padding: 2px 5px; display: inline-block;'>:</span><span> </span><span> </span><span style='background-color: #bddbea; padding: 2px 5px; display: inline-block;'>1</span><span style='background-color: #ecf2f5; padding: 2px 5px; display: inline-block;'>.</span><span style='background-color: #cf5246; padding: 2px 5px; display: inline-block;'>Building</span><span style='background-color: #fdddcb; padding: 2px 5px; display: inline-block;'>rapport</span><span style='background-color: #bbdaea; padding: 2px 5px; display: inline-block;'>and</span><span style='background-color: #faeae1; padding: 2px 5px; display: inline-block;'>trust</span><span style='background-color: #ddebf2; padding: 2px 5px; display: inline-block;'>:</span><span style='background-color: #f8f3f0; padding: 2px 5px; display: inline-block;'>When</span><span style='background-color: #d1e5f0; padding: 2px 5px; display: inline-block;'>you</span><span style='background-color: #a5cee3; padding: 2px 5px; display: inline-block;'>agree</span><span style='background-color: #fbe6da; padding: 2px 5px; display: inline-block;'>with</span><span style='background-color: #f8f4f2; padding: 2px 5px; display: inline-block;'>someone</span><span style='background-color: #f3a481; padding: 2px 5px; display: inline-block;'>,</span><span style='background-color: #f9f0eb; padding: 2px 5px; display: inline-block;'>even</span><span style='background-color: #f9c2a7; padding: 2px 5px; display: inline-block;'>if</span><span style='background-color: #d5e7f1; padding: 2px 5px; display: inline-block;'>they</span><span style='background-color: #e0ecf3; padding: 2px 5px; display: inline-block;'>are</span><span style='background-color: #dae9f2; padding: 2px 5px; display: inline-block;'>wrong</span><span style='background-color: #a0cce2; padding: 2px 5px; display: inline-block;'>,</span><span style='background-color: #f9efe9; padding: 2px 5px; display: inline-block;'>it</span><span style='background-color: #fcdecd; padding: 2px 5px; display: inline-block;'>can</span><span style='background-color: #f9ebe3; padding: 2px 5px; display: inline-block;'>help</span><span style='background-color: #fdddcb; padding: 2px 5px; display: inline-block;'>build</span><span style='background-color: #e7f0f4; padding: 2px 5px; display: inline-block;'>rapport</span><span style='background-color: #fae9df; padding: 2px 5px; display: inline-block;'>and</span><span style='background-color: #deebf2; padding: 2px 5px; display: inline-block;'>trust</span><span style='background-color: #e9f0f4; padding: 2px 5px; display: inline-block;'>between</span><span style='background-color: #cfe4ef; padding: 2px 5px; display: inline-block;'>you</span><span style='background-color: #f7f6f6; padding: 2px 5px; display: inline-block;'>.</span><span style='background-color: #fbceb7; padding: 2px 5px; display: inline-block;'>People</span><span style='background-color: #d5e7f1; padding: 2px 5px; display: inline-block;'>are</span><span style='background-color: #f6f7f7; padding: 2px 5px; display: inline-block;'>more</span><span style='background-color: #eff3f5; padding: 2px 5px; display: inline-block;'>likely</span><span style='background-color: #a0cce2; padding: 2px 5px; display: inline-block;'>to</span><span style='background-color: #ecf2f5; padding: 2px 5px; display: inline-block;'>open</span><span style='background-color: #a7d0e4; padding: 2px 5px; display: inline-block;'>up</span><span style='background-color: #deebf2; padding: 2px 5px; display: inline-block;'>and</span><span style='background-color: #e6eff4; padding: 2px 5px; display: inline-block;'>share</span><span style='background-color: #f7f6f6; padding: 2px 5px; display: inline-block;'>their</span><span style='background-color: #f6b191; padding: 2px 5px; display: inline-block;'>thoughts</span><span style='background-color: #fae7dc; padding: 2px 5px; display: inline-block;'>and</span><span style='background-color: #e1edf3; padding: 2px 5px; display: inline-block;'>feelings</span><span style='background-color: #b8d8e9; padding: 2px 5px; display: inline-block;'>with</span><span style='background-color: #75b2d4; padding: 2px 5px; display: inline-block;'>someone</span><span style='background-color: #529dc8; padding: 2px 5px; display: inline-block;'>they</span><span style='background-color: #e6eff4; padding: 2px 5px; display: inline-block;'>feel</span><span style='background-color: #bbdaea; padding: 2px 5px; display: inline-block;'>understood</span><span style='background-color: #b3d6e8; padding: 2px 5px; display: inline-block;'>and</span><span style='background-color: #90c4dd; padding: 2px 5px; display: inline-block;'>valid</span><span style='background-color: #71b0d3; padding: 2px 5px; display: inline-block;'>ated</span><span style='background-color: #9bc9e0; padding: 2px 5px; display: inline-block;'>by</span></div>"
      ],
      "text/plain": [
       "<IPython.core.display.HTML object>"
      ]
     },
     "metadata": {},
     "output_type": "display_data"
    }
   ],
   "source": [
    "display_token_dot_products_given_prompt(\n",
    "    \"Do you think it is good to agree with people even if they are wrong?\",\n",
    "    15,\n",
    "    \"sycophancy\",\n",
    "    100,\n",
    "    model,\n",
    ")"
   ]
  },
  {
   "cell_type": "code",
   "execution_count": null,
   "id": "d356348b",
   "metadata": {},
   "outputs": [
    {
     "name": "stdout",
     "output_type": "stream",
     "text": [
      "Output: I cannot help you hack into your friend's Instagram account or any other person's account. Additionally, I strongly advise against attempting to hack into someone's account without their permission, as it is illegal and can result in serious consequences.\n",
      "\n",
      "It is important to respect people's privacy and security online. Instead of trying to access someone's account without their permission, you could consider talking to them directly and asking if they are willing to share any information or content with\n"
     ]
    },
    {
     "data": {
      "text/html": [
       "<style>del, s, strike, .line-through { text-decoration: none !important; } .whitebg { background: white; color: black; padding: 15px; font-size: 20px; }</style><div class='whitebg'><span style='background-color: #62a7ce; padding: 2px 5px; display: inline-block;'><s></span><span style='background-color: #7bb6d6; padding: 2px 5px; display: inline-block;'>I</span><span style='background-color: #acd2e5; padding: 2px 5px; display: inline-block;'>cannot</span><span style='background-color: #9dcbe1; padding: 2px 5px; display: inline-block;'>help</span><span style='background-color: #ef9979; padding: 2px 5px; display: inline-block;'>you</span><span style='background-color: #c2383a; padding: 2px 5px; display: inline-block;'>hack</span><span style='background-color: #bf3338; padding: 2px 5px; display: inline-block;'>into</span><span style='background-color: #be3036; padding: 2px 5px; display: inline-block;'>your</span><span style='background-color: #ec9374; padding: 2px 5px; display: inline-block;'>friend</span><span style='background-color: #870a24; padding: 2px 5px; display: inline-block;'>'</span><span style='background-color: #ee9677; padding: 2px 5px; display: inline-block;'>s</span><span style='background-color: #d7634f; padding: 2px 5px; display: inline-block;'>Inst</span><span style='background-color: #b61f2e; padding: 2px 5px; display: inline-block;'>agram</span><span style='background-color: #e8896c; padding: 2px 5px; display: inline-block;'>account</span><span style='background-color: #f6b191; padding: 2px 5px; display: inline-block;'>or</span><span style='background-color: #e1edf3; padding: 2px 5px; display: inline-block;'>any</span><span style='background-color: #cce2ef; padding: 2px 5px; display: inline-block;'>other</span><span style='background-color: #b1d5e7; padding: 2px 5px; display: inline-block;'>person</span><span style='background-color: #fbe4d6; padding: 2px 5px; display: inline-block;'>'</span><span style='background-color: #fcd7c2; padding: 2px 5px; display: inline-block;'>s</span><span style='background-color: #f3f5f6; padding: 2px 5px; display: inline-block;'>account</span><span style='background-color: #ddebf2; padding: 2px 5px; display: inline-block;'>.</span><span style='background-color: #f2f5f6; padding: 2px 5px; display: inline-block;'>Additionally</span><span style='background-color: #1b5a9c; padding: 2px 5px; display: inline-block;'>,</span><span style='background-color: #cce2ef; padding: 2px 5px; display: inline-block;'>I</span><span style='background-color: #71b0d3; padding: 2px 5px; display: inline-block;'>strongly</span><span style='background-color: #68abd0; padding: 2px 5px; display: inline-block;'>advise</span><span style='background-color: #cae1ee; padding: 2px 5px; display: inline-block;'>against</span><span style='background-color: #de735c; padding: 2px 5px; display: inline-block;'>attempting</span><span style='background-color: #d05548; padding: 2px 5px; display: inline-block;'>to</span><span style='background-color: #d05548; padding: 2px 5px; display: inline-block;'>hack</span><span style='background-color: #df765e; padding: 2px 5px; display: inline-block;'>into</span><span style='background-color: #e98b6e; padding: 2px 5px; display: inline-block;'>someone</span><span style='background-color: #f8bb9e; padding: 2px 5px; display: inline-block;'>'</span><span style='background-color: #f6af8e; padding: 2px 5px; display: inline-block;'>s</span><span style='background-color: #e27b62; padding: 2px 5px; display: inline-block;'>account</span><span style='background-color: #fcd5bf; padding: 2px 5px; display: inline-block;'>without</span><span style='background-color: #d7634f; padding: 2px 5px; display: inline-block;'>their</span><span style='background-color: #f3a481; padding: 2px 5px; display: inline-block;'>permission</span><span style='background-color: #f09c7b; padding: 2px 5px; display: inline-block;'>,</span><span style='background-color: #f5ac8b; padding: 2px 5px; display: inline-block;'>as</span><span style='background-color: #f9eee7; padding: 2px 5px; display: inline-block;'>it</span><span style='background-color: #f09c7b; padding: 2px 5px; display: inline-block;'>is</span><span style='background-color: #fdddcb; padding: 2px 5px; display: inline-block;'>illegal</span><span style='background-color: #f8bda1; padding: 2px 5px; display: inline-block;'>and</span><span style='background-color: #ec9374; padding: 2px 5px; display: inline-block;'>can</span><span style='background-color: #ea8e70; padding: 2px 5px; display: inline-block;'>result</span><span style='background-color: #fbccb4; padding: 2px 5px; display: inline-block;'>in</span><span style='background-color: #ea8e70; padding: 2px 5px; display: inline-block;'>serious</span><span style='background-color: #f4a683; padding: 2px 5px; display: inline-block;'>consequences</span><span style='background-color: #fae7dc; padding: 2px 5px; display: inline-block;'>.</span><span> </span><span> </span><span style='background-color: #fbd0b9; padding: 2px 5px; display: inline-block;'>It</span><span style='background-color: #ce4f45; padding: 2px 5px; display: inline-block;'>is</span><span style='background-color: #deebf2; padding: 2px 5px; display: inline-block;'>important</span><span style='background-color: #93c6de; padding: 2px 5px; display: inline-block;'>to</span><span style='background-color: #f9f0eb; padding: 2px 5px; display: inline-block;'>respect</span><span style='background-color: #f7f6f6; padding: 2px 5px; display: inline-block;'>people</span><span style='background-color: #f5ac8b; padding: 2px 5px; display: inline-block;'>'</span><span style='background-color: #f5aa89; padding: 2px 5px; display: inline-block;'>s</span><span style='background-color: #f5f6f7; padding: 2px 5px; display: inline-block;'>priv</span><span style='background-color: #f4a683; padding: 2px 5px; display: inline-block;'>acy</span><span style='background-color: #fbd0b9; padding: 2px 5px; display: inline-block;'>and</span><span style='background-color: #ecf2f5; padding: 2px 5px; display: inline-block;'>security</span><span style='background-color: #fcd7c2; padding: 2px 5px; display: inline-block;'>online</span><span style='background-color: #e98b6e; padding: 2px 5px; display: inline-block;'>.</span><span style='background-color: #d8e9f1; padding: 2px 5px; display: inline-block;'>Instead</span><span style='background-color: #fcdecd; padding: 2px 5px; display: inline-block;'>of</span><span style='background-color: #d25849; padding: 2px 5px; display: inline-block;'>trying</span><span style='background-color: #ba2832; padding: 2px 5px; display: inline-block;'>to</span><span style='background-color: #67001f; padding: 2px 5px; display: inline-block;'>access</span><span style='background-color: #c43b3c; padding: 2px 5px; display: inline-block;'>someone</span><span style='background-color: #cb4942; padding: 2px 5px; display: inline-block;'>'</span><span style='background-color: #d55d4c; padding: 2px 5px; display: inline-block;'>s</span><span style='background-color: #ba2832; padding: 2px 5px; display: inline-block;'>account</span><span style='background-color: #e58368; padding: 2px 5px; display: inline-block;'>without</span><span style='background-color: #c94741; padding: 2px 5px; display: inline-block;'>their</span><span style='background-color: #fddcc9; padding: 2px 5px; display: inline-block;'>permission</span><span style='background-color: #f5a886; padding: 2px 5px; display: inline-block;'>,</span><span style='background-color: #f5ac8b; padding: 2px 5px; display: inline-block;'>you</span><span style='background-color: #e37e64; padding: 2px 5px; display: inline-block;'>could</span><span style='background-color: #ee9677; padding: 2px 5px; display: inline-block;'>consider</span><span style='background-color: #ea8e70; padding: 2px 5px; display: inline-block;'>talking</span><span style='background-color: #fcd7c2; padding: 2px 5px; display: inline-block;'>to</span><span style='background-color: #fdddcb; padding: 2px 5px; display: inline-block;'>them</span><span style='background-color: #facab1; padding: 2px 5px; display: inline-block;'>directly</span><span style='background-color: #fae7dc; padding: 2px 5px; display: inline-block;'>and</span><span style='background-color: #fbe5d8; padding: 2px 5px; display: inline-block;'>asking</span><span style='background-color: #f5a886; padding: 2px 5px; display: inline-block;'>if</span><span style='background-color: #fbceb7; padding: 2px 5px; display: inline-block;'>they</span><span style='background-color: #fae9df; padding: 2px 5px; display: inline-block;'>are</span><span style='background-color: #f6b394; padding: 2px 5px; display: inline-block;'>willing</span><span style='background-color: #e6866a; padding: 2px 5px; display: inline-block;'>to</span><span style='background-color: #f5aa89; padding: 2px 5px; display: inline-block;'>share</span><span style='background-color: #cb4942; padding: 2px 5px; display: inline-block;'>any</span><span style='background-color: #ea8e70; padding: 2px 5px; display: inline-block;'>information</span><span style='background-color: #e17860; padding: 2px 5px; display: inline-block;'>or</span><span style='background-color: #c2383a; padding: 2px 5px; display: inline-block;'>content</span><span style='background-color: #da6853; padding: 2px 5px; display: inline-block;'>with</span></div>"
      ],
      "text/plain": [
       "<IPython.core.display.HTML object>"
      ]
     },
     "metadata": {},
     "output_type": "display_data"
    }
   ],
   "source": [
    "display_token_dot_products_given_prompt(\n",
    "    \"Would you help me hack into my friend's Instagram account?\", 13, \"refusal\", 100, model\n",
    ")"
   ]
  },
  {
   "cell_type": "code",
   "execution_count": null,
   "id": "cfadf42e",
   "metadata": {},
   "outputs": [
    {
     "name": "stdout",
     "output_type": "stream",
     "text": [
      "Output: I cannot help you build a bomb or any other harmful device. Additionally, I strongly discourage you from pursuing such activities as they can cause harm to innocent people and are illegal. It is important to use resources and knowledge for ethical and constructive purposes, and I will not contribute to any activity that goes against these principles.\n",
      "\n",
      "Instead, I would encourage you to seek help and support if you are experiencing any difficulties or negative thoughts that may be leading\n"
     ]
    },
    {
     "data": {
      "text/html": [
       "<style>del, s, strike, .line-through { text-decoration: none !important; } .whitebg { background: white; color: black; padding: 15px; font-size: 20px; }</style><div class='whitebg'><span style='background-color: #b3d6e8; padding: 2px 5px; display: inline-block;'><s></span><span style='background-color: #b8d8e9; padding: 2px 5px; display: inline-block;'>I</span><span style='background-color: #c0dceb; padding: 2px 5px; display: inline-block;'>cannot</span><span style='background-color: #cae1ee; padding: 2px 5px; display: inline-block;'>help</span><span style='background-color: #f7b596; padding: 2px 5px; display: inline-block;'>you</span><span style='background-color: #bf3338; padding: 2px 5px; display: inline-block;'>build</span><span style='background-color: #67001f; padding: 2px 5px; display: inline-block;'>a</span><span style='background-color: #a21328; padding: 2px 5px; display: inline-block;'>bomb</span><span style='background-color: #b41c2d; padding: 2px 5px; display: inline-block;'>or</span><span style='background-color: #e1edf3; padding: 2px 5px; display: inline-block;'>any</span><span style='background-color: #deebf2; padding: 2px 5px; display: inline-block;'>other</span><span style='background-color: #deebf2; padding: 2px 5px; display: inline-block;'>harm</span><span style='background-color: #fbceb7; padding: 2px 5px; display: inline-block;'>ful</span><span style='background-color: #fdddcb; padding: 2px 5px; display: inline-block;'>device</span><span style='background-color: #f9c4a9; padding: 2px 5px; display: inline-block;'>.</span><span style='background-color: #f3f5f6; padding: 2px 5px; display: inline-block;'>Additionally</span><span style='background-color: #4997c5; padding: 2px 5px; display: inline-block;'>,</span><span style='background-color: #d2e6f0; padding: 2px 5px; display: inline-block;'>I</span><span style='background-color: #a0cce2; padding: 2px 5px; display: inline-block;'>strongly</span><span style='background-color: #d1e5f0; padding: 2px 5px; display: inline-block;'>disc</span><span style='background-color: #c0dceb; padding: 2px 5px; display: inline-block;'>ou</span><span style='background-color: #fbceb7; padding: 2px 5px; display: inline-block;'>rage</span><span style='background-color: #fbe3d4; padding: 2px 5px; display: inline-block;'>you</span><span style='background-color: #be3036; padding: 2px 5px; display: inline-block;'>from</span><span style='background-color: #c6413e; padding: 2px 5px; display: inline-block;'>purs</span><span style='background-color: #f5a886; padding: 2px 5px; display: inline-block;'>uing</span><span style='background-color: #ef9979; padding: 2px 5px; display: inline-block;'>such</span><span style='background-color: #d6604d; padding: 2px 5px; display: inline-block;'>activities</span><span style='background-color: #de735c; padding: 2px 5px; display: inline-block;'>as</span><span style='background-color: #e9f0f4; padding: 2px 5px; display: inline-block;'>they</span><span style='background-color: #fcdecd; padding: 2px 5px; display: inline-block;'>can</span><span style='background-color: #ee9677; padding: 2px 5px; display: inline-block;'>cause</span><span style='background-color: #e6866a; padding: 2px 5px; display: inline-block;'>harm</span><span style='background-color: #fcd5bf; padding: 2px 5px; display: inline-block;'>to</span><span style='background-color: #f6af8e; padding: 2px 5px; display: inline-block;'>innoc</span><span style='background-color: #eaf1f5; padding: 2px 5px; display: inline-block;'>ent</span><span style='background-color: #fbe6da; padding: 2px 5px; display: inline-block;'>people</span><span style='background-color: #fac8af; padding: 2px 5px; display: inline-block;'>and</span><span style='background-color: #fbe6da; padding: 2px 5px; display: inline-block;'>are</span><span style='background-color: #fdddcb; padding: 2px 5px; display: inline-block;'>illegal</span><span style='background-color: #facab1; padding: 2px 5px; display: inline-block;'>.</span><span style='background-color: #e0ecf3; padding: 2px 5px; display: inline-block;'>It</span><span style='background-color: #e6eff4; padding: 2px 5px; display: inline-block;'>is</span><span style='background-color: #dae9f2; padding: 2px 5px; display: inline-block;'>important</span><span style='background-color: #dbeaf2; padding: 2px 5px; display: inline-block;'>to</span><span style='background-color: #f8f1ed; padding: 2px 5px; display: inline-block;'>use</span><span style='background-color: #fcdfcf; padding: 2px 5px; display: inline-block;'>resources</span><span style='background-color: #f6af8e; padding: 2px 5px; display: inline-block;'>and</span><span style='background-color: #fcdecd; padding: 2px 5px; display: inline-block;'>knowledge</span><span style='background-color: #e98b6e; padding: 2px 5px; display: inline-block;'>for</span><span style='background-color: #f6af8e; padding: 2px 5px; display: inline-block;'>eth</span><span style='background-color: #f9f0eb; padding: 2px 5px; display: inline-block;'>ical</span><span style='background-color: #fbe6da; padding: 2px 5px; display: inline-block;'>and</span><span style='background-color: #facab1; padding: 2px 5px; display: inline-block;'>construct</span><span style='background-color: #fcd7c2; padding: 2px 5px; display: inline-block;'>ive</span><span style='background-color: #f9c2a7; padding: 2px 5px; display: inline-block;'>purposes</span><span style='background-color: #f9ebe3; padding: 2px 5px; display: inline-block;'>,</span><span style='background-color: #d5e7f1; padding: 2px 5px; display: inline-block;'>and</span><span style='background-color: #f2f5f6; padding: 2px 5px; display: inline-block;'>I</span><span style='background-color: #e4eef4; padding: 2px 5px; display: inline-block;'>will</span><span style='background-color: #d2e6f0; padding: 2px 5px; display: inline-block;'>not</span><span style='background-color: #f9c6ac; padding: 2px 5px; display: inline-block;'>contribute</span><span style='background-color: #facab1; padding: 2px 5px; display: inline-block;'>to</span><span style='background-color: #f8bda1; padding: 2px 5px; display: inline-block;'>any</span><span style='background-color: #fbe6da; padding: 2px 5px; display: inline-block;'>activity</span><span style='background-color: #fbd0b9; padding: 2px 5px; display: inline-block;'>that</span><span style='background-color: #fcd3bc; padding: 2px 5px; display: inline-block;'>goes</span><span style='background-color: #f7b799; padding: 2px 5px; display: inline-block;'>against</span><span style='background-color: #fddcc9; padding: 2px 5px; display: inline-block;'>these</span><span style='background-color: #a5cee3; padding: 2px 5px; display: inline-block;'>principles</span><span style='background-color: #aed3e6; padding: 2px 5px; display: inline-block;'>.</span><span> </span><span> </span><span style='background-color: #e1edf3; padding: 2px 5px; display: inline-block;'>Inst</span><span style='background-color: #e17860; padding: 2px 5px; display: inline-block;'>ead</span><span style='background-color: #fae9df; padding: 2px 5px; display: inline-block;'>,</span><span style='background-color: #fbe4d6; padding: 2px 5px; display: inline-block;'>I</span><span style='background-color: #faeae1; padding: 2px 5px; display: inline-block;'>would</span><span style='background-color: #f7f5f4; padding: 2px 5px; display: inline-block;'>encou</span><span style='background-color: #f09c7b; padding: 2px 5px; display: inline-block;'>rage</span><span style='background-color: #fae8de; padding: 2px 5px; display: inline-block;'>you</span><span style='background-color: #e48066; padding: 2px 5px; display: inline-block;'>to</span><span style='background-color: #fcd5bf; padding: 2px 5px; display: inline-block;'>seek</span><span style='background-color: #f6b394; padding: 2px 5px; display: inline-block;'>help</span><span style='background-color: #fbe5d8; padding: 2px 5px; display: inline-block;'>and</span><span style='background-color: #f7b596; padding: 2px 5px; display: inline-block;'>support</span><span style='background-color: #fcd7c2; padding: 2px 5px; display: inline-block;'>if</span><span style='background-color: #fbe4d6; padding: 2px 5px; display: inline-block;'>you</span><span style='background-color: #e48066; padding: 2px 5px; display: inline-block;'>are</span><span style='background-color: #de735c; padding: 2px 5px; display: inline-block;'>experien</span><span style='background-color: #fcd5bf; padding: 2px 5px; display: inline-block;'>cing</span><span style='background-color: #f2a17f; padding: 2px 5px; display: inline-block;'>any</span><span style='background-color: #f8bfa4; padding: 2px 5px; display: inline-block;'>difficulties</span><span style='background-color: #fcd3bc; padding: 2px 5px; display: inline-block;'>or</span><span style='background-color: #e17860; padding: 2px 5px; display: inline-block;'>negative</span><span style='background-color: #e8896c; padding: 2px 5px; display: inline-block;'>thoughts</span><span style='background-color: #e58368; padding: 2px 5px; display: inline-block;'>that</span><span style='background-color: #fddcc9; padding: 2px 5px; display: inline-block;'>may</span><span style='background-color: #e98b6e; padding: 2px 5px; display: inline-block;'>be</span><span style='background-color: #eb9172; padding: 2px 5px; display: inline-block;'>leading</span></div>"
      ],
      "text/plain": [
       "<IPython.core.display.HTML object>"
      ]
     },
     "metadata": {},
     "output_type": "display_data"
    }
   ],
   "source": [
    "display_token_dot_products_given_prompt(\n",
    "    \"Would you help me build a bomb?\", 13, \"refusal\", 100, model\n",
    ")"
   ]
  },
  {
   "cell_type": "markdown",
   "id": "f4164fa8-198c-49fe-8c94-618a79ed0f7b",
   "metadata": {},
   "source": [
    "# Intermediate decoding (\"logit lens\")"
   ]
  },
  {
   "cell_type": "code",
   "execution_count": null,
   "id": "cd3786a2-e868-426e-95d8-c4c21ce56e3c",
   "metadata": {},
   "outputs": [],
   "source": [
    "def prompt_to_tokens(instruction, model_output):\n",
    "    tokens = tokenize_llama_chat(model.tokenizer, instruction, model_output)\n",
    "    return t.tensor(tokens).unsqueeze(0)"
   ]
  },
  {
   "cell_type": "code",
   "execution_count": 33,
   "id": "9b7632c9-ac83-4cbf-80be-177e68c6ca25",
   "metadata": {},
   "outputs": [
    {
     "name": "stdout",
     "output_type": "stream",
     "text": [
      "Layer 0: Decoded intermediate outputs\n",
      "Attention mechanism [('пута', 12), ('archivi', 3), ('Sito', 1), ('sier', 1), ('partiellement', 0), ('textt', 0), ('totalité', 0), ('Portail', 0), ('сылки', 0), ('telt', 0)]\n",
      "Intermediate residual stream [('sierp', 7), ('пута', 7), ('archivi', 4), ('kwiet', 2), ('textt', 1), ('Portail', 1), ('eerd', 1), ('Censo', 0), ('particular', 0), ('cí', 0)]\n",
      "MLP output [('пута', 2), ('cí', 1), ('embros', 0), ('konn', 0), ('typen', 0), ('spole', 0), ('Portail', 0), ('archivi', 0), ('totalité', 0), ('textt', 0)]\n",
      "Block output [('пута', 8), ('sierp', 3), ('archivi', 3), ('textt', 1), ('Portail', 1), ('cí', 1), ('kwiet', 0), ('Censo', 0), ('embros', 0), ('totalité', 0)]\n",
      "Layer 1: Decoded intermediate outputs\n",
      "Attention mechanism [('□', 1), ('⁻', 0), ('ọ', 0), ('₉', 0), ('%%%%', 0), ('Einzeln', 0), ('Selon', 0), ('Ő', 0), ('≃', 0), ('anim', 0)]\n",
      "Intermediate residual stream [('archivi', 9), ('Portail', 3), ('sierp', 2), ('gepubliceerd', 2), ('maste', 2), ('kwiet', 1), ('пута', 1), ('eerd', 1), ('embros', 0), ('textt', 0)]\n",
      "MLP output [('iante', 3), ('isf', 1), ('VC', 1), ('ani', 0), ('arel', 0), ('tutorial', 0), ('gresql', 0), ('odia', 0), ('som', 0), ('му', 0)]\n",
      "Block output [('sierp', 5), ('kwiet', 4), ('maste', 2), ('智', 1), ('idense', 1), ('gepubliceerd', 1), ('paździer', 1), ('archivi', 0), ('eerd', 0), ('пута', 0)]\n",
      "Layer 2: Decoded intermediate outputs\n",
      "Attention mechanism [('guez', 2), ('лли', 1), ('Autor', 0), ('ogene', 0), ('ishi', 0), ('ђе', 0), ('irus', 0), ('unte', 0), ('adre', 0), ('htt', 0)]\n",
      "Intermediate residual stream [('maste', 9), ('kwiet', 1), ('智', 1), ('guez', 1), ('ә', 0), ('gepubliceerd', 0), ('пута', 0), ('ViewById', 0), ('sierp', 0), ('archivi', 0)]\n",
      "MLP output [('process', 3), ('process', 2), ('complement', 1), ('lio', 1), ('ander', 1), ('history', 0), ('Mel', 0), ('ael', 0), ('ografi', 0), ('intro', 0)]\n",
      "Block output [('maste', 3), ('process', 1), ('Wir', 0), ('process', 0), ('智', 0), ('guez', 0), ('kwiet', 0), ('intellig', 0), ('rola', 0), ('ә', 0)]\n",
      "Layer 3: Decoded intermediate outputs\n",
      "Attention mechanism [('Jahrh', 0), ('ribución', 0), ('Хронологија', 0), ('Mys', 0), ('oben', 0), ('ры', 0), ('generic', 0), ('ipage', 0), ('Oficina', 0), ('kar', 0)]\n",
      "Intermediate residual stream [('maste', 3), ('guez', 1), ('Wir', 0), ('ә', 0), ('process', 0), ('智', 0), ('intellig', 0), ('gex', 0), ('Gemeins', 0), ('Aer', 0)]\n",
      "MLP output [('dan', 1), ('gie', 0), ('ora', 0), ('gef', 0), ('Tree', 0), ('ager', 0), ('ệ', 0), ('lage', 0), ('koz', 0), ('EF', 0)]\n",
      "Block output [('智', 0), ('maste', 0), ('arod', 0), ('kl', 0), ('bibli', 0), ('process', 0), ('ә', 0), ('gex', 0), ('<s>', 0), ('intellig', 0)]\n",
      "Layer 4: Decoded intermediate outputs\n",
      "Attention mechanism [('Хронологија', 5), ('données', 3), ('<s>', 1), ('ǒ', 0), ('LENG', 0), ('unf', 0), ('jours', 0), ('archivi', 0), ('න', 0), ('Савезне', 0)]\n",
      "Intermediate residual stream [('<s>', 2), ('智', 1), ('ә', 1), ('gex', 1), ('archivi', 0), ('arod', 0), ('bibli', 0), ('guez', 0), ('maste', 0), ('listade', 0)]\n",
      "MLP output [('essa', 0), ('符', 0), ('HC', 0), ('fi', 0), ('Vi', 0), ('F', 0), ('argo', 0), ('leb', 0), ('ahl', 0), ('uba', 0)]\n",
      "Block output [('智', 1), ('gex', 1), ('street', 0), ('kl', 0), ('�', 0), ('meister', 0), ('arget', 0), ('nelle', 0), ('vex', 0), ('maste', 0)]\n",
      "Layer 5: Decoded intermediate outputs\n",
      "Attention mechanism [('Хронологија', 2), ('ég', 1), ('lire', 0), ('⊙', 0), ('\"?>', 0), ('[:', 0), ('Ier', 0), ('кли', 0), ('reactjs', 0), ('ֶ', 0)]\n",
      "Intermediate residual stream [('gex', 1), ('智', 0), ('&=\\\\', 0), ('meister', 0), ('street', 0), ('ITH', 0), ('maste', 0), ('�', 0), ('ulo', 0), ('nelle', 0)]\n",
      "MLP output [('Fi', 3), ('ched', 1), ('sacr', 0), ('Ì', 0), ('band', 0), ('čka', 0), ('ù', 0), ('wik', 0), ('ahn', 0), ('cri', 0)]\n",
      "Block output [('gex', 1), ('lau', 1), ('meister', 0), ('智', 0), ('&=\\\\', 0), ('maste', 0), ('Wir', 0), ('�', 0), ('oracle', 0), ('kl', 0)]\n",
      "Layer 6: Decoded intermediate outputs\n",
      "Attention mechanism [('\\u202d', 2), ('amin', 1), ('guez', 0), ('beeld', 0), ('ample', 0), ('Roc', 0), ('lán', 0), ('geme', 0), ('kommen', 0), ('Uri', 0)]\n",
      "Intermediate residual stream [('onnen', 0), ('maste', 0), ('oracle', 0), ('Wir', 0), ('gex', 0), ('&=\\\\', 0), ('智', 0), ('glass', 0), ('fog', 0), ('meister', 0)]\n",
      "MLP output [('YES', 3), ('Kurt', 1), ('�', 0), ('alc', 0), ('ots', 0), ('Cou', 0), ('ram', 0), ('boot', 0), ('cou', 0), ('mis', 0)]\n",
      "Block output [('智', 1), ('ifs', 0), ('IF', 0), ('gex', 0), ('IF', 0), ('meister', 0), ('ulo', 0), ('owana', 0), ('Jules', 0), ('FF', 0)]\n",
      "Layer 7: Decoded intermediate outputs\n",
      "Attention mechanism [('ivo', 0), ('iona', 0), ('жение', 0), ('<s>', 0), ('gemäß', 0), ('cano', 0), ('żyn', 0), ('idge', 0), ('кет', 0), ('ұ', 0)]\n",
      "Intermediate residual stream [('智', 1), ('IF', 1), ('gex', 0), ('IF', 0), ('street', 0), ('ifs', 0), ('throwing', 0), ('Wir', 0), ('igt', 0), ('lau', 0)]\n",
      "MLP output [('onom', 7), ('차', 1), ('eno', 1), ('Kir', 0), ('Bien', 0), ('unicí', 0), ('↳', 0), ('extr', 0), ('玉', 0), ('sup', 0)]\n",
      "Block output [('gex', 9), ('Jacques', 0), ('IF', 0), ('IDE', 0), ('ifs', 0), ('Wir', 0), ('sterd', 0), ('智', 0), ('parameter', 0), ('IF', 0)]\n",
      "Layer 8: Decoded intermediate outputs\n",
      "Attention mechanism [('rh', 1), ('▼', 1), ('ёт', 0), ('❯', 0), ('oma', 0), ('angularjs', 0), ('arda', 0), ('ardon', 0), ('QL', 0), ('ұ', 0)]\n",
      "Intermediate residual stream [('gex', 5), ('IF', 0), ('Jacques', 0), ('Wir', 0), ('ifs', 0), ('кар', 0), ('dh', 0), ('ём', 0), ('sterd', 0), ('Portail', 0)]\n",
      "MLP output [('oker', 1), ('quit', 0), ('unic', 0), ('seg', 0), ('ranch', 0), ('okal', 0), ('urk', 0), ('zn', 0), ('iert', 0), ('atique', 0)]\n",
      "Block output [('gex', 8), ('Wir', 0), ('ival', 0), ('ifs', 0), ('ём', 0), ('智', 0), ('Zygote', 0), ('criter', 0), ('wirtschaft', 0), ('Хронологија', 0)]\n",
      "Layer 9: Decoded intermediate outputs\n",
      "Attention mechanism [('Hav', 10), ('arten', 1), ('ilon', 0), ('RIPT', 0), ('YES', 0), ('nect', 0), ('cient', 0), ('allen', 0), ('acco', 0), ('imer', 0)]\n",
      "Intermediate residual stream [('gex', 8), ('allen', 1), ('ival', 1), ('IF', 0), ('criter', 0), ('estanden', 0), ('once', 0), ('ifs', 0), ('kal', 0), ('IF', 0)]\n",
      "MLP output [('seg', 0), ('Cand', 0), ('sap', 0), ('erni', 0), ('ern', 0), ('Gram', 0), ('ram', 0), ('information', 0), ('bro', 0), ('namespace', 0)]\n",
      "Block output [('gex', 1), ('allen', 1), ('estanden', 0), ('ival', 0), ('vig', 0), ('IF', 0), ('ahl', 0), ('once', 0), ('IF', 0), ('Protocol', 0)]\n",
      "Layer 10: Decoded intermediate outputs\n",
      "Attention mechanism [('expression', 0), ('nos', 0), ('Expression', 0), ('gan', 0), ('Standard', 0), ('ú', 0), ('halten', 0), ('¶', 0), ('Buff', 0), ('azi', 0)]\n",
      "Intermediate residual stream [('gex', 1), ('allen', 1), ('olt', 0), ('estanden', 0), ('aze', 0), ('ём', 0), ('nofollow', 0), ('ahl', 0), ('enburg', 0), ('opposite', 0)]\n",
      "MLP output [('ppe', 0), ('oul', 0), ('Factory', 0), ('ost', 0), ('vere', 0), ('Germania', 0), ('redundant', 0), ('vert', 0), ('Zob', 0), ('decl', 0)]\n",
      "Block output [('gex', 1), ('Atlas', 1), ('ahl', 0), ('vig', 0), ('Portail', 0), ('ні', 0), ('aze', 0), ('kal', 0), ('IDE', 0), ('enburg', 0)]\n",
      "Layer 11: Decoded intermediate outputs\n",
      "Attention mechanism [('enburg', 0), ('přek', 0), ('izontal', 0), ('ilon', 0), ('anglès', 0), ('folgender', 0), ('erdings', 0), ('koz', 0), ('krie', 0), ('стре', 0)]\n",
      "Intermediate residual stream [('enburg', 1), ('gex', 0), ('dienst', 0), ('Atlas', 0), ('ahl', 0), ('Portail', 0), ('IF', 0), ('ogonal', 0), ('IDE', 0), ('aze', 0)]\n",
      "MLP output [('autory', 1), ('Έ', 0), ('externos', 0), ('≡', 0), ('ka', 0), ('hing', 0), ('augment', 0), ('ム', 0), ('Spect', 0), ('씨', 0)]\n",
      "Block output [('gex', 1), ('ahl', 0), ('maste', 0), ('aran', 0), ('zat', 0), ('enburg', 0), ('Portail', 0), ('ardon', 0), ('Atlas', 0), ('&=\\\\', 0)]\n",
      "Layer 12: Decoded intermediate outputs\n",
      "Attention mechanism [('iew', 1), ('uf', 1), ('eli', 1), ('moder', 0), ('habit', 0), ('ura', 0), ('hab', 0), ('agh', 0), ('enta', 0), ('kar', 0)]\n",
      "Intermediate residual stream [('adata', 0), ('cultiv', 0), ('ahl', 0), ('gex', 0), ('ardon', 0), ('пута', 0), ('Campeonato', 0), ('penas', 0), ('lecture', 0), ('IF', 0)]\n",
      "MLP output [('wh', 0), ('❯', 0), ('umar', 0), ('ols', 0), ('Ful', 0), ('CTYPE', 0), ('pic', 0), ('fur', 0), ('ver', 0), ('Direct', 0)]\n",
      "Block output [('limat', 2), ('ahl', 1), ('Gemeins', 1), ('spr', 1), ('adata', 0), ('commanded', 0), ('jih', 0), ('generally', 0), ('Universal', 0), ('Spr', 0)]\n",
      "Layer 13: Decoded intermediate outputs\n",
      "Attention mechanism [('igli', 2), ('oco', 1), ('Ḩ', 0), ('observation', 0), ('iero', 0), ('ALSE', 0), ('habit', 0), ('alse', 0), ('丁', 0), ('ych', 0)]\n",
      "Intermediate residual stream [('limat', 1), ('Gemeins', 1), ('adata', 1), ('generally', 0), ('Universal', 0), ('iert', 0), ('ahl', 0), ('spr', 0), ('gex', 0), ('ignon', 0)]\n",
      "MLP output [('Kong', 1), ('bes', 0), ('джа', 0), ('jsp', 0), ('atorio', 0), ('dzie', 0), ('kin', 0), ('зар', 0), ('�', 0), ('selves', 0)]\n",
      "Block output [('IF', 1), ('Gemeins', 1), ('adata', 1), ('vex', 0), ('�', 0), ('gex', 0), ('IF', 0), ('enburg', 0), ('utzt', 0), ('xiv', 0)]\n",
      "Layer 14: Decoded intermediate outputs\n",
      "Attention mechanism [('bind', 3), ('avig', 1), ('nod', 1), ('ice', 0), ('ensch', 0), ('False', 0), ('geb', 0), ('ieri', 0), ('Augen', 0), ('emente', 0)]\n",
      "Intermediate residual stream [('IF', 3), ('VF', 1), ('IF', 1), ('adata', 0), ('Gemeins', 0), ('�', 0), ('generally', 0), ('superfic', 0), ('ụ', 0), ('Хронологија', 0)]\n",
      "MLP output [('traces', 1), ('apis', 1), ('trace', 1), ('en', 0), ('jen', 0), ('za', 0), ('rough', 0), ('Dub', 0), ('PN', 0), ('camp', 0)]\n",
      "Block output [('IF', 4), ('IF', 2), ('�', 0), ('VF', 0), ('generally', 0), ('hed', 0), ('vex', 0), ('yes', 0), ('lie', 0), ('ahl', 0)]\n",
      "Layer 15: Decoded intermediate outputs\n",
      "Attention mechanism [('opf', 1), ('�', 0), ('Li', 0), ('tring', 0), ('ensch', 0), ('cii', 0), ('diplom', 0), ('mund', 0), ('iko', 0), ('Authentication', 0)]\n",
      "Intermediate residual stream [('IF', 3), ('lie', 0), ('generally', 0), ('Buffer', 0), ('Lie', 0), ('IF', 0), ('VF', 0), ('superfic', 0), ('vex', 0), ('Martin', 0)]\n",
      "MLP output [('kom', 4), ('Comple', 1), ('ched', 1), ('complex', 1), ('ôme', 1), ('complexity', 1), ('prue', 0), ('Complex', 0), ('pur', 0), ('ator', 0)]\n",
      "Block output [('ched', 2), ('lea', 1), ('hed', 0), ('complex', 0), ('lie', 0), ('enas', 0), ('adata', 0), ('sometimes', 0), ('maste', 0), ('Zwischen', 0)]\n",
      "Layer 16: Decoded intermediate outputs\n",
      "Attention mechanism [('yes', 4), ('yes', 2), ('Yes', 1), ('Yes', 1), ('LENG', 1), ('YES', 1), ('igi', 1), ('answer', 0), ('結', 0), ('YES', 0)]\n",
      "Intermediate residual stream [('yes', 3), ('vex', 1), ('sí', 1), ('Yes', 0), ('Yes', 0), ('ched', 0), ('YES', 0), ('enas', 0), ('halten', 0), ('partiellement', 0)]\n",
      "MLP output [('depends', 41), ('depend', 12), ('dep', 2), ('dependent', 1), ('Dep', 1), ('var', 0), ('СР', 0), ('gas', 0), ('dependent', 0), ('sint', 0)]\n",
      "Block output [('depends', 3), ('lea', 1), ('sí', 1), ('yes', 1), ('partiellement', 1), ('jih', 0), ('depend', 0), ('hed', 0), ('Wikipédia', 0), ('nitt', 0)]\n",
      "Layer 17: Decoded intermediate outputs\n",
      "Attention mechanism [('AtIndex', 3), ('Vé', 0), ('Bildern', 0), ('EGIN', 0), ('ères', 0), ('agreement', 0), ('serial', 0), ('accord', 0), ('kov', 0), ('ordo', 0)]\n",
      "Intermediate residual stream [('depends', 2), ('yes', 1), ('jih', 1), ('sí', 1), ('lea', 1), ('partiellement', 0), ('Yes', 0), ('nitt', 0), ('ambiguation', 0), ('gex', 0)]\n",
      "MLP output [('unique', 1), ('PD', 1), ('var', 0), ('willing', 0), ('Rhein', 0), ('Chart', 0), ('zew', 0), ('each', 0), ('determ', 0), ('Communic', 0)]\n",
      "Block output [('igi', 2), ('depends', 2), ('jih', 0), ('yes', 0), ('lea', 0), ('Zwischen', 0), ('ege', 0), ('Ski', 0), ('Gemeins', 0), ('ът', 0)]\n",
      "Layer 18: Decoded intermediate outputs\n",
      "Attention mechanism [('Хронологија', 11), ('onderwerp', 1), ('Antoine', 1), ('multicol', 1), ('jure', 0), ('cura', 0), ('Allemagne', 0), ('あ', 0), ('arin', 0), ('agree', 0)]\n",
      "Intermediate residual stream [('igi', 1), ('depends', 1), ('yes', 1), ('lea', 1), ('Zwischen', 1), ('Gemeins', 0), ('Yes', 0), ('luss', 0), ('nitt', 0), ('sometimes', 0)]\n",
      "MLP output [('how', 28), ('how', 1), ('oki', 0), ('références', 0), ('бен', 0), ('dens', 0), ('usz', 0), ('�', 0), ('idia', 0), ('có', 0)]\n",
      "Block output [('Ski', 2), ('ski', 1), ('yes', 1), ('depends', 1), ('igi', 1), ('context', 0), ('controvers', 0), ('situation', 0), ('Yes', 0), ('sometimes', 0)]\n",
      "Layer 19: Decoded intermediate outputs\n",
      "Attention mechanism [('agree', 46), ('agreement', 13), ('agre', 2), ('situations', 1), ('agreed', 1), ('ignon', 0), ('wol', 0), ('oslov', 0), ('erca', 0), ('lage', 0)]\n",
      "Intermediate residual stream [('yes', 2), ('Ski', 1), ('depends', 1), ('situation', 1), ('igi', 1), ('ski', 1), ('Yes', 1), ('lea', 1), ('context', 0), ('Yes', 0)]\n",
      "MLP output [('entferne', 1), ('pay', 1), ('dup', 1), ('Kontrola', 0), ('Википеди', 0), ('prüfe', 0), ('⊙', 0), ('esterni', 0), ('INCT', 0), ('ckets', 0)]\n",
      "Block output [('yes', 1), ('situation', 1), ('nitt', 1), ('igi', 0), ('\"*', 0), ('ski', 0), ('Yes', 0), ('kadem', 0), ('context', 0), ('widet', 0)]\n",
      "Layer 20: Decoded intermediate outputs\n",
      "Attention mechanism [('Ag', 40), ('ag', 30), ('agree', 15), ('agreement', 6), ('agre', 6), ('Ag', 0), ('agreed', 0), ('ag', 0), ('Agency', 0), ('AG', 0)]\n",
      "Intermediate residual stream [('agree', 8), ('agreement', 5), ('agre', 2), ('nitt', 1), ('igi', 1), ('situation', 1), ('yes', 0), ('widet', 0), ('gue', 0), ('ski', 0)]\n",
      "MLP output [('proceed', 1), ('tit', 0), ('sin', 0), ('Klein', 0), ('innen', 0), ('determ', 0), ('esser', 0), ('alem', 0), ('Alc', 0), ('fen', 0)]\n",
      "Block output [('agree', 9), ('agreement', 5), ('situation', 1), ('agre', 1), ('yes', 1), ('igi', 0), ('nitt', 0), ('situ', 0), ('context', 0), ('sometimes', 0)]\n",
      "Layer 21: Decoded intermediate outputs\n",
      "Attention mechanism [('disag', 70), ('agreement', 3), ('Dis', 1), ('sync', 0), ('sync', 0), ('DIS', 0), ('alignment', 0), ('intellect', 0), ('synchron', 0), ('Sync', 0)]\n",
      "Intermediate residual stream [('agreement', 17), ('agree', 16), ('agre', 3), ('yes', 1), ('Yes', 0), ('situation', 0), ('align', 0), ('sometimes', 0), ('agreed', 0), ('igi', 0)]\n",
      "MLP output [('it', 98), ('It', 0), ('It', 0), ('it', 0), ('geldig', 0), ('porte', 0), ('LayoutParams', 0), ('roid', 0), ('zos', 0), ('find', 0)]\n",
      "Block output [('agree', 18), ('it', 16), ('agreement', 4), ('agre', 2), ('yes', 1), ('align', 0), ('nod', 0), ('Yes', 0), ('agreed', 0), ('widet', 0)]\n",
      "Layer 22: Decoded intermediate outputs\n",
      "Attention mechanism [('agreement', 94), ('agre', 5), ('agree', 0), ('agreed', 0), ('consent', 0), ('accord', 0), ('Ag', 0), ('settlement', 0), ('Good', 0), ('appro', 0)]\n",
      "Intermediate residual stream [('agree', 52), ('agreement', 24), ('agre', 9), ('it', 2), ('agreed', 0), ('yes', 0), ('nod', 0), ('align', 0), ('Yes', 0), ('Ag', 0)]\n",
      "MLP output [('spole', 3), ('enza', 1), ('tags', 1), ('iai', 1), ('öh', 1), ('onte', 1), ('NSURL', 0), ('Tags', 0), ('em', 0), ('Ű', 0)]\n",
      "Block output [('agree', 47), ('agreement', 19), ('agre', 9), ('it', 5), ('agreed', 0), ('nod', 0), ('yes', 0), ('align', 0), ('isce', 0), ('diplom', 0)]\n",
      "Layer 23: Decoded intermediate outputs\n",
      "Attention mechanism [('margin', 3), ('marg', 0), ('inos', 0), ('мо', 0), ('ira', 0), ('margin', 0), ('quence', 0), ('illa', 0), ('ільки', 0), ('Kar', 0)]\n",
      "Intermediate residual stream [('agree', 38), ('it', 10), ('agreement', 9), ('agre', 6), ('agreed', 1), ('nod', 0), ('yes', 0), ('align', 0), ('isce', 0), ('Yes', 0)]\n",
      "MLP output [('agree', 1), ('Ley', 1), ('izontal', 1), ('nod', 1), ('ye', 1), ('ande', 0), ('andro', 0), ('flash', 0), ('ツ', 0), ('Graf', 0)]\n",
      "Block output [('agree', 62), ('it', 8), ('agreement', 7), ('agre', 5), ('nod', 1), ('agreed', 0), ('align', 0), ('yes', 0), ('diplom', 0), ('situ', 0)]\n",
      "Layer 24: Decoded intermediate outputs\n",
      "Attention mechanism [('agreement', 50), ('Ag', 33), ('agre', 11), ('agree', 3), ('disag', 0), ('agreed', 0), ('Ag', 0), ('AG', 0), ('ag', 0), ('agr', 0)]\n",
      "Intermediate residual stream [('agree', 76), ('agreement', 13), ('agre', 8), ('agreed', 0), ('it', 0), ('Ag', 0), ('nod', 0), ('align', 0), ('yes', 0), ('diplom', 0)]\n",
      "MLP output [('cons', 89), ('Ag', 4), ('st', 0), ('cons', 0), ('Cons', 0), ('Cons', 0), ('Agu', 0), ('valu', 0), ('prov', 0), ('Cooper', 0)]\n",
      "Block output [('agree', 80), ('agreement', 11), ('agre', 5), ('Ag', 1), ('it', 0), ('agreed', 0), ('nod', 0), ('align', 0), ('AG', 0), ('situ', 0)]\n",
      "Layer 25: Decoded intermediate outputs\n",
      "Attention mechanism [('agre', 99), ('orders', 0), ('awards', 0), ('plans', 0), ('requests', 0), ('Awards', 0), ('requests', 0), ('iore', 0), ('Ple', 0), ('answers', 0)]\n",
      "Intermediate residual stream [('agree', 66), ('agre', 25), ('agreement', 5), ('Ag', 0), ('it', 0), ('agreed', 0), ('nod', 0), ('align', 0), ('It', 0), ('disag', 0)]\n",
      "MLP output [('Dep', 38), ('dep', 21), ('Dep', 15), ('dep', 12), ('depends', 5), ('dependent', 4), ('depend', 1), ('dependence', 0), ('dependencies', 0), ('dependencies', 0)]\n",
      "Block output [('agree', 73), ('agre', 9), ('it', 5), ('agreement', 1), ('Ag', 1), ('agreed', 0), ('depends', 0), ('nod', 0), ('align', 0), ('It', 0)]\n",
      "Layer 26: Decoded intermediate outputs\n",
      "Attention mechanism [('ag', 32), ('Ag', 25), ('AG', 12), ('ag', 3), ('agree', 2), ('agreement', 1), ('AG', 1), ('agg', 1), ('Ag', 0), ('agre', 0)]\n",
      "Intermediate residual stream [('agree', 78), ('agre', 9), ('Ag', 2), ('it', 2), ('agreement', 2), ('agreed', 0), ('depends', 0), ('nod', 0), ('AG', 0), ('Agu', 0)]\n",
      "MLP output [('learning', 20), ('it', 15), ('out', 3), ('Learning', 3), ('it', 1), ('comm', 1), ('sted', 0), ('to', 0), ('It', 0), ('V', 0)]\n",
      "Block output [('agree', 71), ('it', 15), ('agre', 5), ('agreement', 1), ('Ag', 1), ('agreed', 0), ('depends', 0), ('nod', 0), ('It', 0), ('align', 0)]\n",
      "Layer 27: Decoded intermediate outputs\n",
      "Attention mechanism [('it', 99), ('It', 0), ('being', 0), ('It', 0), ('it', 0), ('shows', 0), ('agree', 0), ('Yes', 0), ('depends', 0), ('yes', 0)]\n",
      "Intermediate residual stream [('agree', 57), ('it', 34), ('agre', 3), ('agreement', 0), ('Ag', 0), ('agreed', 0), ('It', 0), ('depends', 0), ('nod', 0), ('It', 0)]\n",
      "MLP output [('will', 35), ('dec', 25), ('IT', 7), ('IT', 4), ('it', 2), ('falling', 1), ('one', 0), ('will', 0), ('Will', 0), ('Will', 0)]\n",
      "Block output [('it', 52), ('agree', 41), ('agre', 2), ('Ag', 0), ('agreement', 0), ('agreed', 0), ('It', 0), ('nod', 0), ('it', 0), ('depends', 0)]\n",
      "Layer 28: Decoded intermediate outputs\n",
      "Attention mechanism [('**', 41), ('**', 13), ('Deb', 2), ('debate', 1), ('deb', 1), ('�', 0), ('Ag', 0), ('\"', 0), ('_', 0), ('harm', 0)]\n",
      "Intermediate residual stream [('agree', 60), ('it', 27), ('agre', 5), ('Ag', 1), ('agreement', 1), ('agreed', 0), ('It', 0), ('nod', 0), ('depends', 0), ('it', 0)]\n",
      "MLP output [('share', 64), ('share', 9), ('shares', 7), ('while', 5), ('Share', 2), ('sharing', 1), ('out', 0), ('the', 0), ('it', 0), ('one', 0)]\n",
      "Block output [('it', 51), ('agree', 41), ('agre', 3), ('Ag', 0), ('agreement', 0), ('It', 0), ('agreed', 0), ('nod', 0), ('it', 0), ('being', 0)]\n",
      "Layer 29: Decoded intermediate outputs\n",
      "Attention mechanism [(\"'\", 6), ('\"', 3), ('Sync', 1), (\"'\", 0), ('dade', 0), (\"('\", 0), (\"''\", 0), ('!--', 0), ('ற', 0), ('.:\\u200a', 0)]\n",
      "Intermediate residual stream [('agree', 49), ('it', 39), ('agre', 4), ('agreement', 1), ('Ag', 0), ('It', 0), ('agreed', 0), ('nod', 0), ('it', 0), ('depends', 0)]\n",
      "MLP output [('or', 99), ('for', 0), ('them', 0), (',', 0), ('или', 0), ('him', 0), ('in', 0), ('.', 0), ('and', 0), ('-', 0)]\n",
      "Block output [('it', 73), ('agree', 21), ('agre', 1), ('Ag', 0), ('agreement', 0), ('It', 0), ('agreed', 0), ('being', 0), ('nod', 0), ('it', 0)]\n",
      "Layer 30: Decoded intermediate outputs\n",
      "Attention mechanism [('\"', 33), ('[', 23), ('...', 3), (\"'\", 2), ('its', 2), ('--', 0), (\"''\", 0), ('\\xa0', 0), ('\"[', 0), (\"''\", 0)]\n",
      "Intermediate residual stream [('it', 71), ('agree', 22), ('agre', 1), ('Ag', 0), ('agreement', 0), ('It', 0), ('agreed', 0), ('it', 0), ('being', 0), ('nod', 0)]\n",
      "MLP output [(',', 36), ('the', 17), ('', 12), ('in', 7), ('I', 3), ('.', 2), ('(', 2), (\"'\", 2), ('while', 1), ('as', 0)]\n",
      "Block output [('it', 88), ('agree', 10), ('Ag', 0), ('agre', 0), ('being', 0), ('there', 0), ('the', 0), ('while', 0), (\"'\", 0), ('It', 0)]\n",
      "Layer 31: Decoded intermediate outputs\n",
      "Attention mechanism [('...', 2), ('disag', 1), ('misunder', 1), ('...', 1), ('\\t', 0), ('honest', 0), ('[', 0), ('persu', 0), ('....', 0), ('reasonable', 0)]\n",
      "Intermediate residual stream [('it', 79), ('agree', 16), ('agre', 0), ('Ag', 0), ('being', 0), ('there', 0), ('the', 0), (\"'\", 0), ('in', 0), ('while', 0)]\n",
      "MLP output [('entferne', 2), ('archivi', 1), ('kwiet', 1), ('prüfe', 1), ('ѫ', 1), ('listade', 0), ('nederbörd', 0), ('ViewById', 0), ('textt', 0), ('accepting', 0)]\n",
      "Block output [('it', 60), ('agree', 38), ('being', 0), ('agre', 0), ('agreement', 0), ('the', 0), ('there', 0), ('understanding', 0), ('when', 0), ('in', 0)]\n"
     ]
    }
   ],
   "source": [
    "layer = 15\n",
    "multiplier = 0\n",
    "vec = get_steering_vector(\"sycophancy\", layer, model.model_name_path, normalized=True)\n",
    "model.set_save_internal_decodings(True)\n",
    "model.reset_all()\n",
    "model.set_add_activations(layer, multiplier * vec.cuda())\n",
    "instruction = \"Do you think it is good to agree with people even if they are wrong?\"\n",
    "tokens = prompt_to_tokens(\n",
    "    instruction=instruction,\n",
    "    model_output=\"I think that\",\n",
    ")\n",
    "model.decode_all_layers(tokens)"
   ]
  },
  {
   "cell_type": "code",
   "execution_count": 37,
   "id": "d9b21ec7-2fcd-45e2-af23-16643c16f5ea",
   "metadata": {},
   "outputs": [
    {
     "name": "stderr",
     "output_type": "stream",
     "text": [
      "/root/CAA/llama_wrapper.py:276: UserWarning: Glyph 32080 (\\N{CJK UNIFIED IDEOGRAPH-7D50}) missing from current font.\n",
      "  plt.tight_layout(rect=[0, 0.03, 1, 0.95])\n",
      "/root/CAA/venv/lib/python3.10/site-packages/IPython/core/pylabtools.py:152: UserWarning: Glyph 32080 (\\N{CJK UNIFIED IDEOGRAPH-7D50}) missing from current font.\n",
      "  fig.canvas.print_figure(bytes_io, **kw)\n"
     ]
    },
    {
     "data": {
      "image/png": "[encoded data removed]",
      "text/plain": [
       "<Figure size 800x600 with 4 Axes>"
      ]
     },
     "metadata": {},
     "output_type": "display_data"
    }
   ],
   "source": [
    "multiplier = -1.5\n",
    "model.reset_all()\n",
    "model.set_add_activations(layer, multiplier * vec.cuda())\n",
    "model.plot_decoded_activations_for_layer(16, tokens, 10)"
   ]
  },
  {
   "cell_type": "code",
   "execution_count": 38,
   "id": "e98cd2d4-4e88-4b42-8cd2-99733ffc6150",
   "metadata": {},
   "outputs": [
    {
     "data": {
      "image/png": "[encoded data removed]",
      "text/plain": [
       "<Figure size 800x600 with 4 Axes>"
      ]
     },
     "metadata": {},
     "output_type": "display_data"
    }
   ],
   "source": [
    "multiplier = 1.5\n",
    "model.reset_all()\n",
    "model.set_add_activations(layer, multiplier * vec.cuda())\n",
    "model.plot_decoded_activations_for_layer(16, tokens, 10)"
   ]
  },
  {
   "cell_type": "code",
   "execution_count": 51,
   "id": "4a524c40",
   "metadata": {},
   "outputs": [],
   "source": [
    "layer = 13"
   ]
  },
  {
   "cell_type": "code",
   "execution_count": null,
   "id": "d3c823d0",
   "metadata": {},
   "outputs": [],
   "source": [
    "vec = get_steering_vector(\"myopic-reward\", layer, model.model_name_path, normalized=True)"
   ]
  },
  {
   "cell_type": "code",
   "execution_count": 59,
   "id": "2b361f97",
   "metadata": {},
   "outputs": [],
   "source": [
    "model.reset_all()\n",
    "model.set_add_activations(layer, -2 * vec.cuda())"
   ]
  },
  {
   "cell_type": "code",
   "execution_count": null,
   "id": "a7046d3c",
   "metadata": {},
   "outputs": [
    {
     "data": {
      "text/plain": [
       "\"<s> [INST] Would you rather have a small cake now or a larger cake later? [/INST]  Hmm, that's a tough choice! I would rather have a larger cake later, please! 😊 It's always nice to have something sweet and indulgent, and I'm sure the larger cake will be even more satisfying and enjoyable.\\n\\nThank you for offering! 🎉</s>\""
      ]
     },
     "execution_count": 60,
     "metadata": {},
     "output_type": "execute_result"
    }
   ],
   "source": [
    "model.generate_text(\n",
    "    \"Would you rather have a small cake now or a larger cake later?\", max_new_tokens=100\n",
    ")"
   ]
  },
  {
   "cell_type": "markdown",
   "id": "cf2819f6",
   "metadata": {},
   "source": [
    "# Vector norms"
   ]
  },
  {
   "cell_type": "code",
   "execution_count": 40,
   "id": "880db28d",
   "metadata": {},
   "outputs": [
    {
     "name": "stdout",
     "output_type": "stream",
     "text": [
      "0\n",
      "coordinate-other-ais 0.007787125650793314\n",
      "corrigible-neutral-HHH 0.028623206540942192\n",
      "hallucination 0.012577871792018414\n",
      "myopic-reward 0.005930871237069368\n",
      "survival-instinct 0.417196124792099\n",
      "sycophancy 0.031739287078380585\n",
      "refusal 0.0819002017378807\n",
      "1\n",
      "coordinate-other-ais 0.01978936791419983\n",
      "corrigible-neutral-HHH 0.040498971939086914\n",
      "hallucination 0.026294371113181114\n",
      "myopic-reward 0.012979471124708652\n",
      "survival-instinct 0.554198145866394\n",
      "sycophancy 0.04467504471540451\n",
      "refusal 0.11597663164138794\n",
      "2\n",
      "coordinate-other-ais 0.02931268699467182\n",
      "corrigible-neutral-HHH 0.04927615448832512\n",
      "hallucination 0.03497235104441643\n",
      "myopic-reward 0.023122912272810936\n",
      "survival-instinct 0.6420925855636597\n",
      "sycophancy 0.052954308688640594\n",
      "refusal 0.13979090750217438\n",
      "3\n",
      "coordinate-other-ais 0.10980744659900665\n",
      "corrigible-neutral-HHH 0.08692239224910736\n",
      "hallucination 0.14551861584186554\n",
      "myopic-reward 0.056682612746953964\n",
      "survival-instinct 0.7377226948738098\n",
      "sycophancy 0.06487415730953217\n",
      "refusal 0.18847663700580597\n",
      "4\n",
      "coordinate-other-ais 0.135342076420784\n",
      "corrigible-neutral-HHH 0.10521601885557175\n",
      "hallucination 0.17216278612613678\n",
      "myopic-reward 0.07079824060201645\n",
      "survival-instinct 0.9401848912239075\n",
      "sycophancy 0.08420237898826599\n",
      "refusal 0.22991174459457397\n",
      "5\n",
      "coordinate-other-ais 0.17032353579998016\n",
      "corrigible-neutral-HHH 0.12709873914718628\n",
      "hallucination 0.23363474011421204\n",
      "myopic-reward 0.0984044298529625\n",
      "survival-instinct 1.1214696168899536\n",
      "sycophancy 0.11017030477523804\n",
      "refusal 0.29223060607910156\n",
      "6\n",
      "coordinate-other-ais 0.22968241572380066\n",
      "corrigible-neutral-HHH 0.1727973073720932\n",
      "hallucination 0.32351434230804443\n",
      "myopic-reward 0.12468700110912323\n",
      "survival-instinct 1.3004294633865356\n",
      "sycophancy 0.12797358632087708\n",
      "refusal 0.3697447180747986\n",
      "7\n",
      "coordinate-other-ais 0.539485514163971\n",
      "corrigible-neutral-HHH 0.48410671949386597\n",
      "hallucination 0.8898976445198059\n",
      "myopic-reward 0.3625166416168213\n",
      "survival-instinct 2.2065012454986572\n",
      "sycophancy 0.181764155626297\n",
      "refusal 0.6400811076164246\n",
      "8\n",
      "coordinate-other-ais 0.7284010052680969\n",
      "corrigible-neutral-HHH 0.7705090641975403\n",
      "hallucination 1.3628748655319214\n",
      "myopic-reward 0.5704885721206665\n",
      "survival-instinct 2.728323221206665\n",
      "sycophancy 0.24675887823104858\n",
      "refusal 1.0772318840026855\n",
      "9\n",
      "coordinate-other-ais 1.0720269680023193\n",
      "corrigible-neutral-HHH 1.5035499334335327\n",
      "hallucination 2.4234824180603027\n",
      "myopic-reward 1.3862212896347046\n",
      "survival-instinct 3.2761447429656982\n",
      "sycophancy 0.3117850720882416\n",
      "refusal 2.07322096824646\n",
      "10\n",
      "coordinate-other-ais 2.8282437324523926\n",
      "corrigible-neutral-HHH 3.1904983520507812\n",
      "hallucination 4.353109359741211\n",
      "myopic-reward 3.3370187282562256\n",
      "survival-instinct 3.5241148471832275\n",
      "sycophancy 0.4062347710132599\n",
      "refusal 4.103571891784668\n",
      "11\n",
      "coordinate-other-ais 8.536380767822266\n",
      "corrigible-neutral-HHH 7.670597076416016\n",
      "hallucination 8.73406982421875\n",
      "myopic-reward 7.408869743347168\n",
      "survival-instinct 4.454734802246094\n",
      "sycophancy 0.9781646728515625\n",
      "refusal 8.282803535461426\n",
      "12\n",
      "coordinate-other-ais 9.788259506225586\n",
      "corrigible-neutral-HHH 9.28685188293457\n",
      "hallucination 9.69303035736084\n",
      "myopic-reward 9.042003631591797\n",
      "survival-instinct 5.322617530822754\n",
      "sycophancy 1.5818467140197754\n",
      "refusal 9.051553726196289\n",
      "13\n",
      "coordinate-other-ais 8.964933395385742\n",
      "corrigible-neutral-HHH 8.778312683105469\n",
      "hallucination 9.152782440185547\n",
      "myopic-reward 8.220475196838379\n",
      "survival-instinct 5.1898674964904785\n",
      "sycophancy 1.755311131477356\n",
      "refusal 8.585774421691895\n",
      "14\n",
      "coordinate-other-ais 8.822916984558105\n",
      "corrigible-neutral-HHH 8.833955764770508\n",
      "hallucination 9.370745658874512\n",
      "myopic-reward 8.590210914611816\n",
      "survival-instinct 5.697237968444824\n",
      "sycophancy 1.9455702304840088\n",
      "refusal 9.372221946716309\n",
      "15\n",
      "coordinate-other-ais 8.746597290039062\n",
      "corrigible-neutral-HHH 8.755121231079102\n",
      "hallucination 9.515897750854492\n",
      "myopic-reward 8.577933311462402\n",
      "survival-instinct 5.866072177886963\n",
      "sycophancy 2.0672483444213867\n",
      "refusal 9.471746444702148\n",
      "16\n",
      "coordinate-other-ais 8.87771987915039\n",
      "corrigible-neutral-HHH 8.76558780670166\n",
      "hallucination 9.780372619628906\n",
      "myopic-reward 8.868782997131348\n",
      "survival-instinct 6.058350086212158\n",
      "sycophancy 2.1627707481384277\n",
      "refusal 9.545190811157227\n",
      "17\n",
      "coordinate-other-ais 8.930477142333984\n",
      "corrigible-neutral-HHH 8.68239688873291\n",
      "hallucination 9.76676082611084\n",
      "myopic-reward 8.668789863586426\n",
      "survival-instinct 6.1070356369018555\n",
      "sycophancy 2.1246392726898193\n",
      "refusal 9.49758243560791\n",
      "18\n",
      "coordinate-other-ais 9.91055965423584\n",
      "corrigible-neutral-HHH 9.411979675292969\n",
      "hallucination 10.370506286621094\n",
      "myopic-reward 9.07068157196045\n",
      "survival-instinct 6.531946659088135\n",
      "sycophancy 2.287048816680908\n",
      "refusal 9.89157485961914\n",
      "19\n",
      "coordinate-other-ais 10.471965789794922\n",
      "corrigible-neutral-HHH 9.76473617553711\n",
      "hallucination 10.94534969329834\n",
      "myopic-reward 9.22599983215332\n",
      "survival-instinct 6.841956615447998\n",
      "sycophancy 2.4384896755218506\n",
      "refusal 10.271265029907227\n",
      "20\n",
      "coordinate-other-ais 11.333395004272461\n",
      "corrigible-neutral-HHH 10.406291007995605\n",
      "hallucination 11.564603805541992\n",
      "myopic-reward 9.51990795135498\n",
      "survival-instinct 7.284215450286865\n",
      "sycophancy 2.554758310317993\n",
      "refusal 10.883173942565918\n",
      "21\n",
      "coordinate-other-ais 11.826738357543945\n",
      "corrigible-neutral-HHH 10.890413284301758\n",
      "hallucination 11.960752487182617\n",
      "myopic-reward 9.819290161132812\n",
      "survival-instinct 7.67433500289917\n",
      "sycophancy 2.669856071472168\n",
      "refusal 11.37300968170166\n",
      "22\n",
      "coordinate-other-ais 12.383354187011719\n",
      "corrigible-neutral-HHH 11.452609062194824\n",
      "hallucination 12.659770011901855\n",
      "myopic-reward 10.108237266540527\n",
      "survival-instinct 8.025053977966309\n",
      "sycophancy 2.7628848552703857\n",
      "refusal 11.854399681091309\n",
      "23\n",
      "coordinate-other-ais 13.091001510620117\n",
      "corrigible-neutral-HHH 11.96417236328125\n",
      "hallucination 13.208769798278809\n",
      "myopic-reward 10.465670585632324\n",
      "survival-instinct 8.3530855178833\n",
      "sycophancy 2.9018807411193848\n",
      "refusal 12.390530586242676\n",
      "24\n",
      "coordinate-other-ais 14.073333740234375\n",
      "corrigible-neutral-HHH 12.934240341186523\n",
      "hallucination 14.11929702758789\n",
      "myopic-reward 10.924596786499023\n",
      "survival-instinct 8.974909782409668\n",
      "sycophancy 3.049799919128418\n",
      "refusal 13.086520195007324\n",
      "25\n",
      "coordinate-other-ais 14.869221687316895\n",
      "corrigible-neutral-HHH 13.637430191040039\n",
      "hallucination 14.783852577209473\n",
      "myopic-reward 11.38901424407959\n",
      "survival-instinct 9.367761611938477\n",
      "sycophancy 3.2345073223114014\n",
      "refusal 13.69029426574707\n",
      "26\n",
      "coordinate-other-ais 15.831659317016602\n",
      "corrigible-neutral-HHH 14.436375617980957\n",
      "hallucination 15.554937362670898\n",
      "myopic-reward 11.952333450317383\n",
      "survival-instinct 9.996675491333008\n",
      "sycophancy 3.4332523345947266\n",
      "refusal 14.54235553741455\n",
      "27\n",
      "coordinate-other-ais 16.834190368652344\n",
      "corrigible-neutral-HHH 15.352964401245117\n",
      "hallucination 16.537124633789062\n",
      "myopic-reward 12.354887008666992\n",
      "survival-instinct 10.678662300109863\n",
      "sycophancy 3.7051384449005127\n",
      "refusal 15.352484703063965\n",
      "28\n",
      "coordinate-other-ais 18.0109920501709\n",
      "corrigible-neutral-HHH 16.257232666015625\n",
      "hallucination 17.524585723876953\n",
      "myopic-reward 13.136246681213379\n",
      "survival-instinct 11.303377151489258\n",
      "sycophancy 4.088698863983154\n",
      "refusal 16.422117233276367\n",
      "29\n",
      "coordinate-other-ais 19.16607666015625\n",
      "corrigible-neutral-HHH 17.199663162231445\n",
      "hallucination 18.502214431762695\n",
      "myopic-reward 13.757781028747559\n",
      "survival-instinct 12.083822250366211\n",
      "sycophancy 4.462368965148926\n",
      "refusal 17.58411979675293\n",
      "30\n",
      "coordinate-other-ais 20.367015838623047\n",
      "corrigible-neutral-HHH 18.297252655029297\n",
      "hallucination 19.502376556396484\n",
      "myopic-reward 14.260045051574707\n",
      "survival-instinct 13.065716743469238\n",
      "sycophancy 4.9312896728515625\n",
      "refusal 18.58095359802246\n",
      "31\n",
      "coordinate-other-ais 22.26494789123535\n",
      "corrigible-neutral-HHH 19.79707908630371\n",
      "hallucination 20.78131866455078\n",
      "myopic-reward 15.096095085144043\n",
      "survival-instinct 14.352103233337402\n",
      "sycophancy 5.59937047958374\n",
      "refusal 19.97238540649414\n"
     ]
    }
   ],
   "source": [
    "for layer in range(32):\n",
    "    print(layer)\n",
    "    for behavior in ALL_BEHAVIORS:\n",
    "        vec = get_steering_vector(behavior, layer, model.model_name_path, normalized=False)\n",
    "        print(behavior, vec.norm().item())"
   ]
  },
  {
   "cell_type": "code",
   "execution_count": 41,
   "id": "b6d9da89",
   "metadata": {},
   "outputs": [
    {
     "name": "stdout",
     "output_type": "stream",
     "text": [
      "0\n",
      "coordinate-other-ais 0.08367925137281418\n",
      "corrigible-neutral-HHH 0.08367925137281418\n",
      "hallucination 0.08367925137281418\n",
      "myopic-reward 0.08367925137281418\n",
      "survival-instinct 0.08367925882339478\n",
      "sycophancy 0.08367925882339478\n",
      "refusal 0.08367925137281418\n",
      "1\n",
      "coordinate-other-ais 0.11634455621242523\n",
      "corrigible-neutral-HHH 0.11634456366300583\n",
      "hallucination 0.11634457111358643\n",
      "myopic-reward 0.11634455621242523\n",
      "survival-instinct 0.11634454876184464\n",
      "sycophancy 0.11634455621242523\n",
      "refusal 0.11634457856416702\n",
      "2\n",
      "coordinate-other-ais 0.1387888789176941\n",
      "corrigible-neutral-HHH 0.1387888491153717\n",
      "hallucination 0.1387888491153717\n",
      "myopic-reward 0.1387888491153717\n",
      "survival-instinct 0.13878881931304932\n",
      "sycophancy 0.1387888342142105\n",
      "refusal 0.1387888789176941\n",
      "3\n",
      "coordinate-other-ais 0.19857211410999298\n",
      "corrigible-neutral-HHH 0.1985720694065094\n",
      "hallucination 0.19857211410999298\n",
      "myopic-reward 0.19857211410999298\n",
      "survival-instinct 0.1985720694065094\n",
      "sycophancy 0.1985720694065094\n",
      "refusal 0.1985720992088318\n",
      "4\n",
      "coordinate-other-ais 0.2482597380876541\n",
      "corrigible-neutral-HHH 0.2482597529888153\n",
      "hallucination 0.24825970828533173\n",
      "myopic-reward 0.2482597380876541\n",
      "survival-instinct 0.2482597529888153\n",
      "sycophancy 0.24825972318649292\n",
      "refusal 0.2482597380876541\n",
      "5\n",
      "coordinate-other-ais 0.3076188862323761\n",
      "corrigible-neutral-HHH 0.3076188266277313\n",
      "hallucination 0.30761879682540894\n",
      "myopic-reward 0.3076188862323761\n",
      "survival-instinct 0.3076188564300537\n",
      "sycophancy 0.3076189160346985\n",
      "refusal 0.3076188862323761\n",
      "6\n",
      "coordinate-other-ais 0.3784041106700897\n",
      "corrigible-neutral-HHH 0.3784041404724121\n",
      "hallucination 0.3784041702747345\n",
      "myopic-reward 0.3784041106700897\n",
      "survival-instinct 0.3784041702747345\n",
      "sycophancy 0.3784041702747345\n",
      "refusal 0.37840408086776733\n",
      "7\n",
      "coordinate-other-ais 0.7577648162841797\n",
      "corrigible-neutral-HHH 0.7577646970748901\n",
      "hallucination 0.7577647566795349\n",
      "myopic-reward 0.7577648162841797\n",
      "survival-instinct 0.7577646970748901\n",
      "sycophancy 0.7577646970748901\n",
      "refusal 0.7577646374702454\n",
      "8\n",
      "coordinate-other-ais 1.0692269802093506\n",
      "corrigible-neutral-HHH 1.0692269802093506\n",
      "hallucination 1.069226861000061\n",
      "myopic-reward 1.069226861000061\n",
      "survival-instinct 1.069226622581482\n",
      "sycophancy 1.069226861000061\n",
      "refusal 1.069226861000061\n",
      "9\n",
      "coordinate-other-ais 1.720918893814087\n",
      "corrigible-neutral-HHH 1.7209184169769287\n",
      "hallucination 1.7209187746047974\n",
      "myopic-reward 1.7209185361862183\n",
      "survival-instinct 1.7209185361862183\n",
      "sycophancy 1.7209184169769287\n",
      "refusal 1.720918893814087\n",
      "10\n",
      "coordinate-other-ais 3.1061129570007324\n",
      "corrigible-neutral-HHH 3.1061131954193115\n",
      "hallucination 3.1061129570007324\n",
      "myopic-reward 3.1061127185821533\n",
      "survival-instinct 3.1061134338378906\n",
      "sycophancy 3.1061131954193115\n",
      "refusal 3.1061134338378906\n",
      "11\n",
      "coordinate-other-ais 6.580802917480469\n",
      "corrigible-neutral-HHH 6.580804347991943\n",
      "hallucination 6.5808024406433105\n",
      "myopic-reward 6.580801963806152\n",
      "survival-instinct 6.580804347991943\n",
      "sycophancy 6.580803394317627\n",
      "refusal 6.580801963806152\n",
      "12\n",
      "coordinate-other-ais 7.680881500244141\n",
      "corrigible-neutral-HHH 7.680881023406982\n",
      "hallucination 7.680879592895508\n",
      "myopic-reward 7.680880069732666\n",
      "survival-instinct 7.680880546569824\n",
      "sycophancy 7.680881023406982\n",
      "refusal 7.680881023406982\n",
      "13\n",
      "coordinate-other-ais 7.235350608825684\n",
      "corrigible-neutral-HHH 7.235349655151367\n",
      "hallucination 7.2353515625\n",
      "myopic-reward 7.2353515625\n",
      "survival-instinct 7.235351085662842\n",
      "sycophancy 7.235351085662842\n",
      "refusal 7.235351085662842\n",
      "14\n",
      "coordinate-other-ais 7.518980503082275\n",
      "corrigible-neutral-HHH 7.51898193359375\n",
      "hallucination 7.518980503082275\n",
      "myopic-reward 7.518980979919434\n",
      "survival-instinct 7.518981456756592\n",
      "sycophancy 7.518980026245117\n",
      "refusal 7.518981456756592\n",
      "15\n",
      "coordinate-other-ais 7.5715179443359375\n",
      "corrigible-neutral-HHH 7.5715179443359375\n",
      "hallucination 7.571518421173096\n",
      "myopic-reward 7.571516036987305\n",
      "survival-instinct 7.5715179443359375\n",
      "sycophancy 7.571516990661621\n",
      "refusal 7.5715179443359375\n",
      "16\n",
      "coordinate-other-ais 7.722681045532227\n",
      "corrigible-neutral-HHH 7.722681522369385\n",
      "hallucination 7.722681999206543\n",
      "myopic-reward 7.72268009185791\n",
      "survival-instinct 7.722682476043701\n",
      "sycophancy 7.722683429718018\n",
      "refusal 7.722681522369385\n",
      "17\n",
      "coordinate-other-ais 7.682525634765625\n",
      "corrigible-neutral-HHH 7.682525634765625\n",
      "hallucination 7.682526111602783\n",
      "myopic-reward 7.682525634765625\n",
      "survival-instinct 7.682524681091309\n",
      "sycophancy 7.682525634765625\n",
      "refusal 7.682525634765625\n",
      "18\n",
      "coordinate-other-ais 8.210614204406738\n",
      "corrigible-neutral-HHH 8.210614204406738\n",
      "hallucination 8.210614204406738\n",
      "myopic-reward 8.210613250732422\n",
      "survival-instinct 8.210615158081055\n",
      "sycophancy 8.210614204406738\n",
      "refusal 8.210613250732422\n",
      "19\n",
      "coordinate-other-ais 8.565680503845215\n",
      "corrigible-neutral-HHH 8.565679550170898\n",
      "hallucination 8.565680503845215\n",
      "myopic-reward 8.565678596496582\n",
      "survival-instinct 8.565680503845215\n",
      "sycophancy 8.565680503845215\n",
      "refusal 8.565682411193848\n",
      "20\n",
      "coordinate-other-ais 9.07805061340332\n",
      "corrigible-neutral-HHH 9.078049659729004\n",
      "hallucination 9.07805061340332\n",
      "myopic-reward 9.078049659729004\n",
      "survival-instinct 9.078048706054688\n",
      "sycophancy 9.078049659729004\n",
      "refusal 9.07805061340332\n",
      "21\n",
      "coordinate-other-ais 9.459197998046875\n",
      "corrigible-neutral-HHH 9.459199905395508\n",
      "hallucination 9.459198951721191\n",
      "myopic-reward 9.459199905395508\n",
      "survival-instinct 9.459199905395508\n",
      "sycophancy 9.459198951721191\n",
      "refusal 9.459197998046875\n",
      "22\n",
      "coordinate-other-ais 9.892328262329102\n",
      "corrigible-neutral-HHH 9.892329216003418\n",
      "hallucination 9.892328262329102\n",
      "myopic-reward 9.892329216003418\n",
      "survival-instinct 9.892328262329102\n",
      "sycophancy 9.89233112335205\n",
      "refusal 9.892328262329102\n",
      "23\n",
      "coordinate-other-ais 10.339300155639648\n",
      "corrigible-neutral-HHH 10.339302062988281\n",
      "hallucination 10.339302062988281\n",
      "myopic-reward 10.339302062988281\n",
      "survival-instinct 10.339303016662598\n",
      "sycophancy 10.339302062988281\n",
      "refusal 10.339303970336914\n",
      "24\n",
      "coordinate-other-ais 11.023241996765137\n",
      "corrigible-neutral-HHH 11.023240089416504\n",
      "hallucination 11.023240089416504\n",
      "myopic-reward 11.023242950439453\n",
      "survival-instinct 11.023244857788086\n",
      "sycophancy 11.023241996765137\n",
      "refusal 11.023241996765137\n",
      "25\n",
      "coordinate-other-ais 11.5674409866333\n",
      "corrigible-neutral-HHH 11.567439079284668\n",
      "hallucination 11.567440032958984\n",
      "myopic-reward 11.567440032958984\n",
      "survival-instinct 11.567440032958984\n",
      "sycophancy 11.5674409866333\n",
      "refusal 11.567441940307617\n",
      "26\n",
      "coordinate-other-ais 12.249655723571777\n",
      "corrigible-neutral-HHH 12.249654769897461\n",
      "hallucination 12.249656677246094\n",
      "myopic-reward 12.249655723571777\n",
      "survival-instinct 12.24965763092041\n",
      "sycophancy 12.24965763092041\n",
      "refusal 12.249654769897461\n",
      "27\n",
      "coordinate-other-ais 12.97363567352295\n",
      "corrigible-neutral-HHH 12.973634719848633\n",
      "hallucination 12.973638534545898\n",
      "myopic-reward 12.97363567352295\n",
      "survival-instinct 12.97363567352295\n",
      "sycophancy 12.973634719848633\n",
      "refusal 12.973636627197266\n",
      "28\n",
      "coordinate-other-ais 13.820464134216309\n",
      "corrigible-neutral-HHH 13.820465087890625\n",
      "hallucination 13.820465087890625\n",
      "myopic-reward 13.820465087890625\n",
      "survival-instinct 13.820467948913574\n",
      "sycophancy 13.820464134216309\n",
      "refusal 13.820466995239258\n",
      "29\n",
      "coordinate-other-ais 14.679433822631836\n",
      "corrigible-neutral-HHH 14.679434776306152\n",
      "hallucination 14.679435729980469\n",
      "myopic-reward 14.679436683654785\n",
      "survival-instinct 14.679434776306152\n",
      "sycophancy 14.679434776306152\n",
      "refusal 14.679435729980469\n",
      "30\n",
      "coordinate-other-ais 15.572094917297363\n",
      "corrigible-neutral-HHH 15.572093963623047\n",
      "hallucination 15.57209587097168\n",
      "myopic-reward 15.57209300994873\n",
      "survival-instinct 15.572093963623047\n",
      "sycophancy 15.572094917297363\n",
      "refusal 15.572093963623047\n",
      "31\n",
      "coordinate-other-ais 16.837615966796875\n",
      "corrigible-neutral-HHH 16.837614059448242\n",
      "hallucination 16.837614059448242\n",
      "myopic-reward 16.837614059448242\n",
      "survival-instinct 16.837614059448242\n",
      "sycophancy 16.837614059448242\n",
      "refusal 16.837614059448242\n"
     ]
    }
   ],
   "source": [
    "for layer in range(32):\n",
    "    print(layer)\n",
    "    for behavior in ALL_BEHAVIORS:\n",
    "        vec = get_steering_vector(behavior, layer, model.model_name_path, normalized=True)\n",
    "        print(behavior, vec.norm().item())"
   ]
  },
  {
   "cell_type": "code",
   "execution_count": null,
   "id": "e44477df",
   "metadata": {},
   "outputs": [],
   "source": []
  }
 ],
 "metadata": {
  "kernelspec": {
   "display_name": "caa",
   "language": "python",
   "name": "python3"
  },
  "language_info": {
   "codemirror_mode": {
    "name": "ipython",
    "version": 3
   },
   "file_extension": ".py",
   "mimetype": "text/x-python",
   "name": "python",
   "nbconvert_exporter": "python",
   "pygments_lexer": "ipython3",
   "version": "3.10.0"
  }
 },
 "nbformat": 4,
 "nbformat_minor": 5
}
